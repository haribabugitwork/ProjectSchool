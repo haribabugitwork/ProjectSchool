{
 "cells": [
  {
   "cell_type": "markdown",
   "id": "f34dbc45-1d85-480e-9be2-cf91ba11fb8d",
   "metadata": {},
   "source": [
    "## Image Reconstruction using Convolutional Autoencoder on CIFAR10 Subset Data\n",
    "### Problem Description\n",
    "#### The goal of this assignment is to build a Convolutional Autoencoder (CAE) for image reconstruction using a subset of the CIFAR dataset. The CIFAR dataset consists of 60,000 32x32 color images in 10 different classes. For this assignment, you will be provided with a subset of the CIFAR dataset consisting of 40 images for training and 8 images for testing, selected from one or more classes.\n",
    "\n",
    "### Objectives\n",
    "#### Understand the structure and components of Convolutional Autoencoders.\n",
    "#### Implement a Convolutional Autoencoder using PyTorch to reconstruct images from the CIFAR subset.\n",
    "#### Train the Autoencoder on the provided training data and evaluate its performance on the test data.\n",
    "\n",
    "### Input\n",
    "#### CIFAR-10 Subset: The dataset contains images categorized into the following 10 classes: airplane, automobile, bird, cat, deer, dog, frog, horse, ship, and truck. But for this assignment the subset contains only first four classes: airplane, automobile, bird and cat\n",
    "#### Training Data: 40 images\n",
    "#### Testing Data: 8 images\n",
    "#### Model Architecture: You will design and implement a Convolutional Autoencoder model, which may include convolutional layers, pooling layers, upsampling layers, and a latent space representation."
   ]
  },
  {
   "cell_type": "markdown",
   "id": "b1f8d988-7525-43d6-be6c-03aa5765f037",
   "metadata": {},
   "source": [
    "### Import Required Libraries"
   ]
  },
  {
   "cell_type": "code",
   "execution_count": null,
   "id": "c9428ede-5c94-4fdc-86b1-84552b1139a3",
   "metadata": {},
   "outputs": [],
   "source": [
    "import numpy as np\n",
    "import torch\n",
    "import torch.nn as nn\n",
    "import torch.nn.functional as F\n",
    "import torch.optim as optim\n",
    "import matplotlib.pyplot as plt\n",
    "from PIL import Image\n",
    "from torch.utils.data.sampler import SubsetRandomSampler\n",
    "from torch.utils.data import DataLoader\n",
    "import torchvision\n",
    "from torchvision import datasets, transforms\n",
    "from torch.utils.data import DataLoader, Dataset\n",
    "import matplotlib.pyplot as plt\n",
    "%matplotlib inline\n",
    "import torch.nn as nn"
   ]
  },
  {
   "cell_type": "markdown",
   "id": "cab320a0-bd22-4bfc-b1b1-2d39bedd14a9",
   "metadata": {},
   "source": [
    "### Preprocessing and EDA"
   ]
  },
  {
   "cell_type": "code",
   "execution_count": null,
   "id": "23e743f5-6e8b-4b75-8fc2-a9a0375e7e6b",
   "metadata": {
    "deletable": false,
    "nbgrader": {
     "cell_type": "code",
     "checksum": "d6e5eb786fdc8e938f2518463f13d708",
     "grade": false,
     "grade_id": "cell-d4ed98a3976a911a",
     "locked": false,
     "schema_version": 3,
     "solution": true,
     "task": false
    },
    "tags": []
   },
   "outputs": [],
   "source": [
    "# YOUR CODE HERE\n",
    "raise NotImplementedError()"
   ]
  },
  {
   "cell_type": "markdown",
   "id": "ef08cbea-6c88-4c54-af20-934192762c0a",
   "metadata": {},
   "source": [
    "#### Load training and testing data"
   ]
  },
  {
   "cell_type": "code",
   "execution_count": null,
   "id": "daa94c90-717c-4743-bc20-7942f71c8b6a",
   "metadata": {},
   "outputs": [],
   "source": [
    "# Define a custom dataset class\n",
    "class CustomCIFAR10Dataset(Dataset):\n",
    "    def __init__(self, data, labels, transform=None):\n",
    "        self.data = data\n",
    "        self.labels = labels\n",
    "        self.transform = transform\n",
    "\n",
    "    def __len__(self):\n",
    "        return len(self.data)\n",
    "\n",
    "    def __getitem__(self, idx):\n",
    "        \n",
    "        img, label = self.data[idx], self.labels[idx]\n",
    "        img = img.transpose((1, 2, 0))  # Convert to HWC format\n",
    "        img = Image.fromarray(img.astype('uint8'))  # Convert to PIL image\n",
    "        if self.transform:\n",
    "            img = self.transform(img)\n",
    "        return img, label"
   ]
  },
  {
   "cell_type": "code",
   "execution_count": null,
   "id": "52549e27-edd6-4feb-8c04-31bce82d9ac1",
   "metadata": {},
   "outputs": [],
   "source": [
    "# Load the saved CIFAR10 data subsets using PyTorch\n",
    "train_subset_data = np.load('data/train_cifar.npy')\n",
    "train_subset_labels = np.load('data/train_cifar_target.npy')\n",
    "test_subset_data = np.load('data/test_cifar10.npy')\n",
    "test_subset_labels = np.load('data/test_cifar_target.npy')"
   ]
  },
  {
   "cell_type": "markdown",
   "id": "a243b802-f29c-4e71-8ea1-34c9c2d37ad3",
   "metadata": {},
   "source": [
    "#### Initialize train and test loaders"
   ]
  },
  {
   "cell_type": "code",
   "execution_count": null,
   "id": "1b95fe8d-959f-4038-97df-97740676c383",
   "metadata": {},
   "outputs": [],
   "source": [
    "# Create an instance of the CustomCIFAR10Dataset for the training subset,\n",
    "# using the provided training data and labels, and apply the specified transformations.\n",
    "train_dataset = CustomCIFAR10Dataset(train_subset_data, train_subset_labels, transform=transform)"
   ]
  },
  {
   "cell_type": "code",
   "execution_count": null,
   "id": "3b1a77e0-7f2a-431e-88a9-e76486acdd0b",
   "metadata": {
    "deletable": false,
    "nbgrader": {
     "cell_type": "code",
     "checksum": "1359d36b36e15e6a3fcfb1b97bce5f71",
     "grade": false,
     "grade_id": "cell-508bb2967aae2992",
     "locked": false,
     "schema_version": 3,
     "solution": true,
     "task": false
    },
    "tags": []
   },
   "outputs": [],
   "source": [
    "# Create an instance of the CustomCIFAR10Dataset for the test subset,\n",
    "# using the provided test data and labels, and apply the specified transformations.\n",
    "# hint: test_dataset = <>\n",
    "# YOUR CODE HERE\n",
    "raise NotImplementedError()"
   ]
  },
  {
   "cell_type": "code",
   "execution_count": null,
   "id": "67739091-2c26-4c03-bcfa-e2e10ab08886",
   "metadata": {},
   "outputs": [],
   "source": [
    "# Create a DataLoader for the training dataset with a batch size of 4 and shuffling enabled.\n",
    "train_loader = DataLoader(train_dataset, batch_size=4, shuffle=True)"
   ]
  },
  {
   "cell_type": "code",
   "execution_count": null,
   "id": "a2310c50-a195-40ad-8c16-5f964c5587bb",
   "metadata": {
    "tags": []
   },
   "outputs": [],
   "source": [
    "# Print some information about the subsets\n",
    "print(f'Train Size: {len(train_dataset)}')\n",
    "print(f'Test Size: {len(test_dataset)}')\n",
    "# Example of iterating through the DataLoader\n",
    "for images, labels in train_loader:\n",
    "    print(f'Batch of images shape: {images.shape}')\n",
    "    print(f'Batch of labels shape: {labels.shape}')\n",
    "    break   "
   ]
  },
  {
   "cell_type": "code",
   "execution_count": null,
   "id": "3bd8977b-59ee-4985-b54a-b72bed96638f",
   "metadata": {
    "deletable": false,
    "nbgrader": {
     "cell_type": "code",
     "checksum": "9ecd4f976a880d35eb67bf628902f7d7",
     "grade": false,
     "grade_id": "cell-c284b647868720d7",
     "locked": false,
     "schema_version": 3,
     "solution": true,
     "task": false
    },
    "tags": []
   },
   "outputs": [],
   "source": [
    "# Create a DataLoader for the test dataset with a batch size of 4 and shuffling disabled.\n",
    "# hint: test_loader = <>\n",
    "# YOUR CODE HERE\n",
    "raise NotImplementedError()"
   ]
  },
  {
   "cell_type": "code",
   "execution_count": null,
   "id": "78704f3f-5a5f-4d63-95ec-f905ddf2332f",
   "metadata": {
    "deletable": false,
    "editable": false,
    "nbgrader": {
     "cell_type": "code",
     "checksum": "6ecf958a0456be44468ca3a05baecf23",
     "grade": true,
     "grade_id": "cell-ffa0790cd23d5871",
     "locked": true,
     "points": 10,
     "schema_version": 3,
     "solution": false,
     "task": false
    },
    "tags": []
   },
   "outputs": [],
   "source": []
  },
  {
   "cell_type": "code",
   "execution_count": null,
   "id": "9b4880d5-f639-44ac-b945-d19d54e64e66",
   "metadata": {
    "deletable": false,
    "editable": false,
    "nbgrader": {
     "cell_type": "code",
     "checksum": "bb84e20fed33ebd61cbeb498e1007502",
     "grade": true,
     "grade_id": "cell-58fa95d2b21f5dde",
     "locked": true,
     "points": 10,
     "schema_version": 3,
     "solution": false,
     "task": false
    },
    "tags": []
   },
   "outputs": [],
   "source": []
  },
  {
   "cell_type": "code",
   "execution_count": null,
   "id": "283c0b0d-aad6-42d0-8ca4-fc37a9c78648",
   "metadata": {
    "deletable": false,
    "nbgrader": {
     "cell_type": "code",
     "checksum": "56a85b5057470a17424379a2a122f54d",
     "grade": false,
     "grade_id": "cell-03f1f07d7eaf6616",
     "locked": false,
     "schema_version": 3,
     "solution": true,
     "task": false
    },
    "tags": []
   },
   "outputs": [],
   "source": [
    "# Define the list of class names corresponding to the CIFAR-10 dataset labels.\n",
    "# hint1: Check the problem description and the input at the beginning of this Notebook\n",
    "# hint2: classes = ['airplane', 'automobile'....]\n",
    "\n",
    "# YOUR CODE HERE\n",
    "raise NotImplementedError()"
   ]
  },
  {
   "cell_type": "code",
   "execution_count": null,
   "id": "1eab8a27-ce27-4078-98e7-19ea53a14683",
   "metadata": {
    "deletable": false,
    "editable": false,
    "nbgrader": {
     "cell_type": "code",
     "checksum": "9ac1a625f4ef20a6a4c52a86acc3fe83",
     "grade": true,
     "grade_id": "cell-e4a8c6505c7ecad7",
     "locked": true,
     "points": 10,
     "schema_version": 3,
     "solution": false,
     "task": false
    },
    "tags": []
   },
   "outputs": [],
   "source": []
  },
  {
   "cell_type": "markdown",
   "id": "02c2b8b2-be8f-49c4-a807-48e2f5d05971",
   "metadata": {
    "nbgrader": {
     "grade": false,
     "grade_id": "cell-92743a9474b201c2",
     "locked": false,
     "points": 10,
     "schema_version": 3,
     "solution": false,
     "task": false
    },
    "tags": []
   },
   "source": [
    "#### Display random images from training and testing dataset"
   ]
  },
  {
   "cell_type": "code",
   "execution_count": null,
   "id": "247e7314-8cf2-4a7b-9579-d9761119500b",
   "metadata": {},
   "outputs": [],
   "source": [
    "# Utility functions to un-normalize and display an image\n",
    "def imshow(img):\n",
    "    img = img / 2 +0.5\n",
    "    plt.imshow(np.transpose(img, (1, 2, 0)))"
   ]
  },
  {
   "cell_type": "code",
   "execution_count": null,
   "id": "c66ff771-b626-4538-af3d-c46d74efa851",
   "metadata": {
    "deletable": false,
    "nbgrader": {
     "cell_type": "code",
     "checksum": "25d7f79c83ecd6cee6551de4dc327518",
     "grade": false,
     "grade_id": "cell-a1893f49d98d93d2",
     "locked": false,
     "schema_version": 3,
     "solution": true,
     "task": false
    },
    "tags": []
   },
   "outputs": [],
   "source": [
    "# YOUR CODE HERE\n",
    "raise NotImplementedError()"
   ]
  },
  {
   "cell_type": "code",
   "execution_count": null,
   "id": "c602f18a-bcf6-4462-a827-a85c056d93d9",
   "metadata": {
    "deletable": false,
    "editable": false,
    "nbgrader": {
     "cell_type": "code",
     "checksum": "69162eb0aec63cc984589f46e9f3e2de",
     "grade": true,
     "grade_id": "cell-4eea6062117d424e",
     "locked": true,
     "points": 0,
     "schema_version": 3,
     "solution": false,
     "task": false
    },
    "tags": []
   },
   "outputs": [],
   "source": []
  },
  {
   "cell_type": "code",
   "execution_count": null,
   "id": "77e00529-7115-49b0-a6b8-f227c1e341a8",
   "metadata": {
    "deletable": false,
    "nbgrader": {
     "cell_type": "code",
     "checksum": "5cc6cde5052c98672ba24c07e9f661fd",
     "grade": false,
     "grade_id": "cell-ce2563a4e8f5dc71",
     "locked": false,
     "schema_version": 3,
     "solution": true,
     "task": false
    },
    "tags": []
   },
   "outputs": [],
   "source": [
    "# Get some random test images for display\n",
    "# Step1: Create an iterator from the test data loader\n",
    "# Step2: Get the next batch of images and labels from the iterator\n",
    "# Step3: Display the images in a grid using the imshow function\n",
    "# Step4: Print the labels of the images in the batch\n",
    "# hint: Refer the code in the above cell that displays training images\n",
    "\n",
    "# YOUR CODE HERE\n",
    "raise NotImplementedError()"
   ]
  },
  {
   "cell_type": "code",
   "execution_count": null,
   "id": "6f26dbe3-6f76-4095-9776-aa37202985b6",
   "metadata": {
    "deletable": false,
    "editable": false,
    "nbgrader": {
     "cell_type": "code",
     "checksum": "d897f00b713c346aeaecdff656037c86",
     "grade": true,
     "grade_id": "cell-c964414b42f5af85",
     "locked": true,
     "points": 10,
     "schema_version": 3,
     "solution": false,
     "task": false
    },
    "tags": []
   },
   "outputs": [],
   "source": []
  },
  {
   "cell_type": "markdown",
   "id": "97475f39-309d-4c5a-a4ec-666b74be2285",
   "metadata": {},
   "source": [
    "### Design simple Convolutional AutoEncoder architecture"
   ]
  },
  {
   "cell_type": "markdown",
   "id": "7828f90f-b15a-465c-8a2f-fd4a07e5cede",
   "metadata": {},
   "source": [
    "#### Design the following Convolutional AutoEncoder Neural Network architecture for Image Processing\n",
    "#### and reconstruction, apply the Pooling, Activation functions as per the below design"
   ]
  },
  {
   "attachments": {
    "84716f10-63c4-4d70-b5c8-5ff8ecb6f55f.png": {
     "image/png": "[encoded data removed]"
    }
   },
   "cell_type": "markdown",
   "id": "66e08356-139f-4a86-951b-4574ce58cb72",
   "metadata": {},
   "source": [
    "![image.png](attachment:84716f10-63c4-4d70-b5c8-5ff8ecb6f55f.png)"
   ]
  },
  {
   "cell_type": "code",
   "execution_count": null,
   "id": "6db37275-0db3-4f33-9ca0-8bc13c8be431",
   "metadata": {
    "deletable": false,
    "nbgrader": {
     "cell_type": "code",
     "checksum": "59e392d49ef78eb34aaa5df3c083e84e",
     "grade": false,
     "grade_id": "cell-2361d0f3c077d0e4",
     "locked": false,
     "schema_version": 3,
     "solution": true,
     "task": false
    },
    "tags": []
   },
   "outputs": [],
   "source": [
    "# Define the Convolutional Autoencoder\n",
    "class ConvAutoEncoder(nn.Module):\n",
    "    def __init__(self):\n",
    "        super(ConvAutoEncoder, self).__init__()\n",
    "        \n",
    "        # Encoder Layers\n",
    "        # First convolutional layer: input channels = 3 (RGB image), output channels = 16, \n",
    "        #                            3x3 kernel size, padding = 1\n",
    "        # Second convolutional layer: input channels = 16, output channels = 4, \n",
    "        #                            3x3 kernel size, padding = 1\n",
    "        # Max pooling layer with 2x2 kernel, and stride = 2 to downsample feature maps\n",
    "        #\n",
    "        # Decoder Layers\n",
    "        # First transposed convolution (deconvolution) layer: \n",
    "        #                            input channels = 4, output channels = 16, \n",
    "        #                            2x2 kernel, stride = 2\n",
    "        # Second transposed convolution (deconvolution) layer: \n",
    "        #                           input channels = 16, output channels = 3, \n",
    "        #                           2x2 kernel, stride = 2\n",
    "        ## hint: Use Class variables, e.g self.conv1, self.pool, self.t_conv1\n",
    "        #\n",
    "        # YOUR CODE HERE\n",
    "        raise NotImplementedError()\n",
    "        \n",
    "    def forward(self, x):\n",
    "        # Apply the first convolutional layer followed by ReLU activation\n",
    "        # Apply max pooling to reduce spatial dimensions\n",
    "        # Apply the second convolutional layer followed by ReLU activation\n",
    "        # Apply max pooling again to further reduce spatial dimensions\n",
    "        # Apply the first transposed convolution layer followed by ReLU activation to begin reconstruction\n",
    "        # Apply the second transposed convolution layer followed by Sigmoid activation to reconstruct the image\n",
    "        #\n",
    "        # YOUR CODE HERE\n",
    "        raise NotImplementedError()\n",
    "        return x"
   ]
  },
  {
   "cell_type": "code",
   "execution_count": null,
   "id": "ff666512-6b1a-4c9d-8a4f-f2e236ff179a",
   "metadata": {},
   "outputs": [],
   "source": [
    "# Instantiate the model\n",
    "model = ConvAutoEncoder()\n",
    "print(model)"
   ]
  },
  {
   "cell_type": "code",
   "execution_count": null,
   "id": "1fe6f48c-1eae-4770-9859-516954e322d7",
   "metadata": {
    "deletable": false,
    "editable": false,
    "nbgrader": {
     "cell_type": "code",
     "checksum": "2b2ee085f41e9876151dd94c9adfe675",
     "grade": true,
     "grade_id": "cell-7e4aa339fa27dada",
     "locked": true,
     "points": 10,
     "schema_version": 3,
     "solution": false,
     "task": false
    },
    "tags": []
   },
   "outputs": [],
   "source": []
  },
  {
   "cell_type": "markdown",
   "id": "73e286f1-8927-406b-9f7a-fe4ed06da86e",
   "metadata": {},
   "source": [
    "#### Select loss and optimizer functions"
   ]
  },
  {
   "cell_type": "code",
   "execution_count": null,
   "id": "87bad82b-0537-428f-adc8-8fa4bcdac3a4",
   "metadata": {
    "deletable": false,
    "nbgrader": {
     "cell_type": "code",
     "checksum": "22990e661bd779105ef2ee102c1360b4",
     "grade": false,
     "grade_id": "cell-1573835b89e440ff",
     "locked": false,
     "schema_version": 3,
     "solution": true,
     "task": false
    },
    "tags": []
   },
   "outputs": [],
   "source": [
    "# Set loss function and optimizer\n",
    "# Use Binary Cross Entropy loss and assign it to criterion object\n",
    "# Create and initialize the loss function to Binary Cross Entropy Loss\n",
    "\n",
    "# YOUR CODE HERE\n",
    "raise NotImplementedError()\n",
    "\n",
    "# Create and initialize the optimizer to Adam optimizer\n",
    "# The learning rate (lr) is set to 0.001, which controls the step size for updating the model parameters\n",
    "# YOUR CODE HERE\n",
    "raise NotImplementedError()"
   ]
  },
  {
   "cell_type": "code",
   "execution_count": null,
   "id": "78378042-85ac-4cec-8660-f8bc45b88ac9",
   "metadata": {
    "deletable": false,
    "editable": false,
    "nbgrader": {
     "cell_type": "code",
     "checksum": "04b639535a854c3ca6e425cd98da939b",
     "grade": true,
     "grade_id": "cell-d803af7209066665",
     "locked": true,
     "points": 10,
     "schema_version": 3,
     "solution": false,
     "task": false
    },
    "tags": []
   },
   "outputs": [],
   "source": []
  },
  {
   "cell_type": "code",
   "execution_count": null,
   "id": "aa58d492-8e8e-4743-a876-cdce0ee28d7a",
   "metadata": {
    "deletable": false,
    "nbgrader": {
     "cell_type": "code",
     "checksum": "323fc066906759d40c3ad138166e980c",
     "grade": false,
     "grade_id": "cell-75b61cd657c1d5b4",
     "locked": false,
     "schema_version": 3,
     "solution": true,
     "task": false
    },
    "tags": []
   },
   "outputs": [],
   "source": [
    "# Training function\n",
    "# hint1: train(model, train_loader, <loss_function_obj>, <optimizer_obj>, num_epochs=2)\n",
    "# hint2: replace criterion and optimizer with your <loss_function_obj> and <optimizer_obj> respectively\n",
    "def train(model, train_loader, criterion, optimizer, num_epochs=2):    \n",
    "    # Set the model to training mode\n",
    "    # This is important for certain layers like dropout and batch normalization, \n",
    "    #                     which behave differently during training and evaluation\n",
    "    model.train()\n",
    "    for epoch in range(num_epochs):\n",
    "        # Initialize the running loss to zero before starting the training loop\n",
    "        # Loop over the training data in batches\n",
    "        #    Zero the gradients for the optimizer\n",
    "        #    Forward pass: compute the model output for the given inputs\n",
    "        #    Compute the loss between the predicted outputs and the actual labels\n",
    "        #    Backward pass: compute the gradient of the loss with respect to model parameters\n",
    "        #    Perform a single optimization step to update the model parameters\n",
    "        #    Accumulate the loss for reporting\n",
    "        #    Print the average loss for every <n> mini-batches\n",
    "        # YOUR CODE HERE\n",
    "        raise NotImplementedError()\n",
    "    "
   ]
  },
  {
   "cell_type": "code",
   "execution_count": null,
   "id": "7e12b377-c87b-421c-bc2c-61837a2d5436",
   "metadata": {
    "deletable": false,
    "editable": false,
    "nbgrader": {
     "cell_type": "code",
     "checksum": "477b7318703938c93ed2608af6986c9b",
     "grade": true,
     "grade_id": "cell-df88b911f8e1f300",
     "locked": true,
     "points": 10,
     "schema_version": 3,
     "solution": false,
     "task": false
    },
    "tags": []
   },
   "outputs": [],
   "source": []
  },
  {
   "cell_type": "code",
   "execution_count": null,
   "id": "7fc13b55-c19e-407f-8a8d-25f69797164b",
   "metadata": {
    "deletable": false,
    "nbgrader": {
     "cell_type": "code",
     "checksum": "a576f7f4e6633a38276f63b0878f459f",
     "grade": false,
     "grade_id": "cell-dd7671e1d1eef37a",
     "locked": false,
     "schema_version": 3,
     "solution": true,
     "task": false
    },
    "tags": []
   },
   "outputs": [],
   "source": [
    "# Train the model\n",
    "num_epochs = 5\n",
    "# Invoke the train function to kick off the learning\n",
    "# Pass arguments: model, loader, loss, optimizer, num of epochs\n",
    "# hint: train(model, train_loader, <loss_function_obj>, <optimizer_obj>, num_epochs)\n",
    "# YOUR CODE HERE\n",
    "raise NotImplementedError()"
   ]
  },
  {
   "cell_type": "code",
   "execution_count": null,
   "id": "e98f7b56-1d58-4da2-90ad-bdee6713707c",
   "metadata": {
    "deletable": false,
    "editable": false,
    "nbgrader": {
     "cell_type": "code",
     "checksum": "c8eb06d8d6db46fdd4e6d53a6c6ae6df",
     "grade": true,
     "grade_id": "cell-99cb53669a060b6c",
     "locked": true,
     "points": 10,
     "schema_version": 3,
     "solution": false,
     "task": false
    },
    "tags": []
   },
   "outputs": [],
   "source": []
  },
  {
   "cell_type": "code",
   "execution_count": null,
   "id": "45b8d362-d2a4-4bc8-9685-a9f2c78cfe17",
   "metadata": {},
   "outputs": [],
   "source": [
    "# Batch of test images\n",
    "dataiter = iter(test_loader)\n",
    "images, labels = next(dataiter)"
   ]
  },
  {
   "cell_type": "code",
   "execution_count": null,
   "id": "2cf63c86-2696-47a7-9e4a-afc8e0b25634",
   "metadata": {},
   "outputs": [],
   "source": [
    "# Sample outputs\n",
    "output = model(images)\n",
    "images = images.numpy()"
   ]
  },
  {
   "cell_type": "code",
   "execution_count": null,
   "id": "b42b6d9d-e5ed-48fb-b4cd-aca80a61f900",
   "metadata": {},
   "outputs": [],
   "source": [
    "# Ensure the output shape is correct\n",
    "print(f'Output shape: {output.shape}')  # Should be [4, 3, 32, 32]"
   ]
  },
  {
   "cell_type": "code",
   "execution_count": null,
   "id": "cd67c8f0-f48e-49c3-8e4f-90c04da5cbe2",
   "metadata": {},
   "outputs": [],
   "source": [
    "batch_size = 4\n",
    "output = output.view(batch_size, 3, 28, 28)\n",
    "output = output.detach().numpy()"
   ]
  },
  {
   "cell_type": "code",
   "execution_count": null,
   "id": "38c284ee-fbfd-44a7-bcfa-fabf5dfbce04",
   "metadata": {},
   "outputs": [],
   "source": [
    "# Original images\n",
    "print(\"Original Images\")\n",
    "fig, axes = plt.subplots(nrows=1, ncols=2, sharex=True, sharey=True, figsize=(4,2))\n",
    "for idx in np.arange(2):\n",
    "    ax = fig.add_subplot(1, 2, idx+1, xticks=[], yticks=[])\n",
    "    imshow(images[idx])\n",
    "    ax.set_title(classes[labels[idx]])\n",
    "plt.show()\n",
    "\n",
    "# Reconstructed images\n",
    "print(\"Reconstructed Images\")\n",
    "fig, axes = plt.subplots(nrows=1, ncols=2, sharex=True, sharey=True, figsize=(4, 2))\n",
    "for idx in np.arange(2):\n",
    "    ax = fig.add_subplot(1, 2, idx+1, xticks=[], yticks=[])\n",
    "    imshow(output[idx])\n",
    "    ax.set_title(classes[labels[idx]])\n",
    "    \n",
    "plt.show()"
   ]
  },
  {
   "cell_type": "code",
   "execution_count": null,
   "id": "a7b0054f-e054-4451-9e5a-6c80952c02a3",
   "metadata": {},
   "outputs": [],
   "source": []
  }
 ],
 "metadata": {
  "kernelspec": {
   "display_name": "Python 3 (ipykernel)",
   "language": "python",
   "name": "python3"
  },
  "language_info": {
   "codemirror_mode": {
    "name": "ipython",
    "version": 3
   },
   "file_extension": ".py",
   "mimetype": "text/x-python",
   "name": "python",
   "nbconvert_exporter": "python",
   "pygments_lexer": "ipython3",
   "version": "3.10.8"
  }
 },
 "nbformat": 4,
 "nbformat_minor": 5
}
