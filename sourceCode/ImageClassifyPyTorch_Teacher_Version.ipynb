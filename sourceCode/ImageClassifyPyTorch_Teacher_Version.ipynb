{
 "cells": [
  {
   "cell_type": "code",
   "execution_count": 1,
   "id": "2d61f9a8-9eda-47de-9746-7d9fa5a6bc63",
   "metadata": {},
   "outputs": [],
   "source": [
    "import torch\n",
    "import torchvision\n",
    "import torchvision.transforms as transforms"
   ]
  },
  {
   "cell_type": "code",
   "execution_count": 2,
   "id": "5137ecff-9b93-405c-8455-047c8dc16e44",
   "metadata": {},
   "outputs": [
    {
     "name": "stdout",
     "output_type": "stream",
     "text": [
      "Files already downloaded and verified\n",
      "Files already downloaded and verified\n"
     ]
    }
   ],
   "source": [
    "transform = transforms.Compose(\n",
    "    [transforms.ToTensor(),\n",
    "     transforms.Normalize((0.5, 0.5, 0.5), (0.5, 0.5, 0.5))])\n",
    "\n",
    "batch_size = 4\n",
    "\n",
    "trainset = torchvision.datasets.CIFAR10(root='./data', train=True,\n",
    "                                        download=True, transform=transform)\n",
    "trainloader = torch.utils.data.DataLoader(trainset, batch_size=batch_size,\n",
    "                                          shuffle=True, num_workers=2)\n",
    "\n",
    "testset = torchvision.datasets.CIFAR10(root='./data', train=False,\n",
    "                                       download=True, transform=transform)\n",
    "testloader = torch.utils.data.DataLoader(testset, batch_size=batch_size,\n",
    "                                         shuffle=False, num_workers=2)\n",
    "\n",
    "classes = ('plane', 'car', 'bird', 'cat',\n",
    "           'deer', 'dog', 'frog', 'horse', 'ship', 'truck')"
   ]
  },
  {
   "cell_type": "code",
   "execution_count": 3,
   "id": "ae646be9-4741-4352-a90f-74fb2d323d6a",
   "metadata": {},
   "outputs": [
    {
     "data": {
      "image/png": "[encoded data removed]",
      "text/plain": [
       "<Figure size 640x480 with 1 Axes>"
      ]
     },
     "metadata": {},
     "output_type": "display_data"
    },
    {
     "name": "stdout",
     "output_type": "stream",
     "text": [
      "deer  frog  horse bird \n"
     ]
    }
   ],
   "source": [
    "import matplotlib.pyplot as plt\n",
    "import numpy as np\n",
    "\n",
    "# functions to show an image\n",
    "\n",
    "\n",
    "def imshow(img):\n",
    "    img = img / 2 + 0.5     # unnormalize\n",
    "    npimg = img.numpy()\n",
    "    plt.imshow(np.transpose(npimg, (1, 2, 0)))\n",
    "    plt.show()\n",
    "\n",
    "\n",
    "# get some random training images\n",
    "dataiter = iter(trainloader)\n",
    "images, labels = next(dataiter)\n",
    "\n",
    "# show images\n",
    "imshow(torchvision.utils.make_grid(images))\n",
    "# print labels\n",
    "print(' '.join(f'{classes[labels[j]]:5s}' for j in range(batch_size)))"
   ]
  },
  {
   "cell_type": "code",
   "execution_count": 7,
   "id": "f890dc1b-5391-40b0-828a-197fba7c2682",
   "metadata": {
    "nbgrader": {
     "grade": false,
     "grade_id": "cell-7f0aaf0dfb39b5be",
     "locked": false,
     "schema_version": 3,
     "solution": true,
     "task": false
    },
    "tags": []
   },
   "outputs": [],
   "source": [
    "import torch.nn as nn\n",
    "import torch.nn.functional as F\n",
    "\n",
    "\n",
    "class Net(nn.Module):\n",
    "    def __init__(self):\n",
    "        super().__init__()\n",
    "        self.conv1 = nn.Conv2d(3, 6, 5)\n",
    "       \n",
    "        # DEFINE MAXPOOL2D OF 2 BY 2\n",
    "        ### BEGIN SOLUTION\n",
    "        self.pool = nn.MaxPool2d(2, 2)\n",
    "        ### END SOLUTION\n",
    "        self.conv2 = nn.Conv2d(6, 16, 5)\n",
    "        self.fc1 = nn.Linear(16 * 5 * 5, 120)\n",
    "        ### BEGIN SOLUTION\n",
    "        self.fc2 = nn.Linear(120, 84)\n",
    "        ### END SOLUTION\n",
    "        self.fc3 = nn.Linear(84, 10)\n",
    "\n",
    "\n",
    "    def forward(self, x):\n",
    "        x = self.pool(F.relu(self.conv1(x)))\n",
    "        x = self.pool(F.relu(self.conv2(x)))\n",
    "        x = torch.flatten(x, 1) # flatten all dimensions except batch\n",
    "        x = F.relu(self.fc1(x))\n",
    "        x = F.relu(self.fc2(x))\n",
    "        x = self.fc3(x)\n",
    "        return x\n",
    "\n",
    "\n",
    "net = Net()"
   ]
  },
  {
   "cell_type": "code",
   "execution_count": 14,
   "id": "7a33be54-e187-4960-b941-9d2da0bd1628",
   "metadata": {
    "nbgrader": {
     "grade": true,
     "grade_id": "cell-33419b51454b64f1",
     "locked": true,
     "points": 20,
     "schema_version": 3,
     "solution": false,
     "task": false
    },
    "tags": []
   },
   "outputs": [],
   "source": [
    "### BEGIN HIDDEN TESTS\n",
    "def test_network_initialization():\n",
    "    net = Net()\n",
    "    \n",
    "    # Check if the network has the expected layers\n",
    "    assert isinstance(net.pool, nn.MaxPool2d), \"pool should be an instance of nn.MaxPool2d\"\n",
    "    assert isinstance(net.fc2, nn.Linear), \"fc2 should be an instance of nn.Linear\"\n",
    "   \n",
    "test_network_initialization()\n",
    "### END HIDDEN TESTS"
   ]
  },
  {
   "cell_type": "markdown",
   "id": "d91cac95-56a8-4861-81ab-d2ae18587766",
   "metadata": {},
   "source": [
    "#### use Cross-Entropy loss and assign to criterion variable"
   ]
  },
  {
   "cell_type": "code",
   "execution_count": 9,
   "id": "47596ece-398e-49ca-b5c4-7feb1781703f",
   "metadata": {
    "nbgrader": {
     "grade": false,
     "grade_id": "cell-270b904118f159d6",
     "locked": false,
     "schema_version": 3,
     "solution": true,
     "task": false
    },
    "tags": []
   },
   "outputs": [],
   "source": [
    "import torch.optim as optim\n",
    "\n",
    "### BEGIN SOLUTION\n",
    "\n",
    "criterion = nn.CrossEntropyLoss()\n",
    "\n",
    "### END SOLUTION"
   ]
  },
  {
   "cell_type": "code",
   "execution_count": 10,
   "id": "4ec315ab-dfaf-4384-8ac4-90a3ecc25016",
   "metadata": {
    "nbgrader": {
     "grade": true,
     "grade_id": "cell-a6ce5e315a7dad40",
     "locked": true,
     "points": 10,
     "schema_version": 3,
     "solution": false,
     "task": false
    },
    "tags": []
   },
   "outputs": [],
   "source": [
    "#### BEGIN HIDDEN TESTS\n",
    "\n",
    "# Test case 1: Check that `criterion` is an instance of `nn.CrossEntropyLoss`\n",
    "assert isinstance(criterion, nn.CrossEntropyLoss), \"Criterion should be an instance of nn.CrossEntropyLoss\"\n",
    "\n",
    "#### END HIDDEN TESTS"
   ]
  },
  {
   "cell_type": "markdown",
   "id": "2cedbc08-ed81-4240-8def-35b922ba95f5",
   "metadata": {},
   "source": [
    "#### Create an object 'optimizer' for momentum based SGD optimzer \n",
    "#### Consider learning rate as 0.001 and momentum as 0.9"
   ]
  },
  {
   "cell_type": "code",
   "execution_count": 11,
   "id": "ec998537-3f52-4dd5-b69a-9206928f99c4",
   "metadata": {
    "nbgrader": {
     "grade": false,
     "grade_id": "cell-6afc8d8f15089da5",
     "locked": false,
     "schema_version": 3,
     "solution": true,
     "task": false
    },
    "tags": []
   },
   "outputs": [],
   "source": [
    "### BEGIN SOLUTION\n",
    "\n",
    "optimizer = optim.SGD(net.parameters(), lr=0.001, momentum=0.9)\n",
    "\n",
    "### END SOLUTION"
   ]
  },
  {
   "cell_type": "code",
   "execution_count": 12,
   "id": "bfcc2b02-c679-4674-a212-e1ef0c75b4d9",
   "metadata": {
    "nbgrader": {
     "grade": true,
     "grade_id": "cell-fef108a6c7a289de",
     "locked": true,
     "points": 30,
     "schema_version": 3,
     "solution": false,
     "task": false
    },
    "tags": []
   },
   "outputs": [],
   "source": [
    "#### BEGIN HIDDEN TESTS\n",
    "\n",
    "# Test case 2: Check that `optimizer` is an instance of `optim.SGD`\n",
    "assert isinstance(optimizer, optim.SGD), \"Optimizer should be an instance of optim.SGD\"\n",
    "\n",
    "# Test case 3: Check that the learning rate of the optimizer is correctly set\n",
    "assert optimizer.defaults['lr'] == 0.001, \"Learning rate should be set to 0.001\"\n",
    "\n",
    "# Test case 4: Check that the momentum of the optimizer is correctly set\n",
    "assert optimizer.defaults['momentum'] == 0.9, \"Momentum should be set to 0.9\"\n",
    "\n",
    "#### END HIDDEN TESTS"
   ]
  },
  {
   "cell_type": "code",
   "execution_count": 13,
   "id": "5e9d2921-edb2-413a-b662-c86d2e4470dc",
   "metadata": {},
   "outputs": [
    {
     "name": "stderr",
     "output_type": "stream",
     "text": [
      "[NVSHARE][WARN]: Couldn't open file /var/run/secrets/kubernetes.io/serviceaccount/namespace to read Pod namespace\n",
      "[NVSHARE][INFO]: Successfully initialized nvshare GPU\n",
      "[NVSHARE][INFO]: Client ID = e1a15d9be2745fcc\n"
     ]
    },
    {
     "name": "stdout",
     "output_type": "stream",
     "text": [
      "[1,  2000] loss: 2.164\n",
      "[1,  4000] loss: 1.813\n",
      "[1,  6000] loss: 1.665\n",
      "[1,  8000] loss: 1.577\n",
      "[1, 10000] loss: 1.509\n",
      "[1, 12000] loss: 1.452\n",
      "[2,  2000] loss: 1.375\n",
      "[2,  4000] loss: 1.371\n",
      "[2,  6000] loss: 1.351\n",
      "[2,  8000] loss: 1.323\n",
      "[2, 10000] loss: 1.298\n",
      "[2, 12000] loss: 1.261\n",
      "Finished Training\n"
     ]
    }
   ],
   "source": [
    "for epoch in range(2):  # loop over the dataset multiple times\n",
    "\n",
    "    running_loss = 0.0\n",
    "    for i, data in enumerate(trainloader, 0):\n",
    "        # get the inputs; data is a list of [inputs, labels]\n",
    "        inputs, labels = data\n",
    "\n",
    "        # zero the parameter gradients\n",
    "        optimizer.zero_grad()\n",
    "\n",
    "        # forward + backward + optimize\n",
    "        outputs = net(inputs)\n",
    "        loss = criterion(outputs, labels)\n",
    "        loss.backward()\n",
    "        optimizer.step()\n",
    "\n",
    "        # print statistics\n",
    "        running_loss += loss.item()\n",
    "        if i % 2000 == 1999:    # print every 2000 mini-batches\n",
    "            print(f'[{epoch + 1}, {i + 1:5d}] loss: {running_loss / 2000:.3f}')\n",
    "            running_loss = 0.0\n",
    "\n",
    "print('Finished Training')"
   ]
  },
  {
   "cell_type": "code",
   "execution_count": 15,
   "id": "90c46c80-2abd-4a27-aad5-d648a51c4a12",
   "metadata": {},
   "outputs": [
    {
     "data": {
      "image/png": "[encoded data removed]",
      "text/plain": [
       "<Figure size 640x480 with 1 Axes>"
      ]
     },
     "metadata": {},
     "output_type": "display_data"
    },
    {
     "name": "stdout",
     "output_type": "stream",
     "text": [
      "GroundTruth:  cat   ship  ship  plane\n"
     ]
    }
   ],
   "source": [
    "dataiter = iter(testloader)\n",
    "images, labels = next(dataiter)\n",
    "\n",
    "# print images\n",
    "imshow(torchvision.utils.make_grid(images))\n",
    "print('GroundTruth: ', ' '.join(f'{classes[labels[j]]:5s}' for j in range(4)))"
   ]
  },
  {
   "cell_type": "code",
   "execution_count": null,
   "id": "0123bbf5-46f3-499e-bb94-45266b4e7238",
   "metadata": {},
   "outputs": [],
   "source": []
  }
 ],
 "metadata": {
  "kernelspec": {
   "display_name": "Python 3 (ipykernel)",
   "language": "python",
   "name": "python3"
  },
  "language_info": {
   "codemirror_mode": {
    "name": "ipython",
    "version": 3
   },
   "file_extension": ".py",
   "mimetype": "text/x-python",
   "name": "python",
   "nbconvert_exporter": "python",
   "pygments_lexer": "ipython3",
   "version": "3.10.8"
  }
 },
 "nbformat": 4,
 "nbformat_minor": 5
}
