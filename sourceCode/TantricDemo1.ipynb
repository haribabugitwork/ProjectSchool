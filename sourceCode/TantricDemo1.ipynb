{
 "cells": [
  {
   "cell_type": "markdown",
   "id": "7c533062-d0e6-4470-9ee6-9bee59a893f3",
   "metadata": {},
   "source": [
    "#### Write a function that returns sum of two numbers, Make sure it handles exception case"
   ]
  },
  {
   "cell_type": "code",
   "execution_count": 2,
   "id": "b6dee24e-29bb-4c0a-a6ec-47712384f2c9",
   "metadata": {
    "nbgrader": {
     "grade": false,
     "grade_id": "cell-5beb3b8b93b61359",
     "locked": false,
     "schema_version": 3,
     "solution": true,
     "task": false
    },
    "tags": []
   },
   "outputs": [],
   "source": [
    "def computeSum(a, b):\n",
    "    \"\"\"Compute the sum of two numbers.\n",
    "    \n",
    "    \"\"\"\n",
    "    \n",
    "    ### BEGIN SOLUTION\n",
    "    if a == 0 or b == 0:\n",
    "        raise ValueError(\"a & b both must be greater than or less than to 0\")\n",
    "        \n",
    "    return a+b\n",
    "    ### END SOLUTION\n",
    "  "
   ]
  },
  {
   "cell_type": "code",
   "execution_count": 3,
   "id": "17c5352c-1af8-4549-8694-1854c91e7b16",
   "metadata": {},
   "outputs": [
    {
     "data": {
      "text/plain": [
       "99"
      ]
     },
     "execution_count": 3,
     "metadata": {},
     "output_type": "execute_result"
    }
   ],
   "source": [
    "computeSum(88, 11)"
   ]
  },
  {
   "cell_type": "code",
   "execution_count": 7,
   "id": "5d75831e-5b41-4a11-9736-a05676e7d1d2",
   "metadata": {
    "nbgrader": {
     "grade": true,
     "grade_id": "cell-b4915a4279b3dcca",
     "locked": true,
     "points": 10,
     "schema_version": 3,
     "solution": false,
     "task": false
    },
    "tags": []
   },
   "outputs": [],
   "source": [
    "assert computeSum(14, 5) == 19\n",
    "assert computeSum(2, 47) == 49"
   ]
  },
  {
   "cell_type": "code",
   "execution_count": 4,
   "id": "eea9d6b6-ee78-42ad-a1bc-f6d9d45d70ab",
   "metadata": {
    "nbgrader": {
     "grade": true,
     "grade_id": "cell-87031aafaa9c3e48",
     "locked": true,
     "points": 10,
     "schema_version": 3,
     "solution": false,
     "task": false
    },
    "tags": []
   },
   "outputs": [],
   "source": [
    "\"\"\"Check that computeSum returns the correct output for serveral inputs\"\"\"\n",
    "### BEGIN HIDDEN TESTS\n",
    "assert computeSum(4, 5) == 9\n",
    "assert computeSum(2, 87) == 89\n",
    "### END HIDDEN TESTS"
   ]
  },
  {
   "cell_type": "code",
   "execution_count": 6,
   "id": "e0b8ccc9-b51c-4ce3-bf7f-af3dafcc5254",
   "metadata": {},
   "outputs": [],
   "source": [
    "\"\"\"Check that computeSum raises an error for invalid inputs\"\"\"\n",
    "try:\n",
    "    computeSum(4,0)\n",
    "except ValueError:\n",
    "    pass\n",
    "else:\n",
    "    raise AssertionError(\"did not raise\")\n"
   ]
  },
  {
   "cell_type": "code",
   "execution_count": null,
   "id": "9afd3878-a1a5-4358-8b1d-9ab340c648fa",
   "metadata": {},
   "outputs": [],
   "source": []
  }
 ],
 "metadata": {
  "kernelspec": {
   "display_name": "Python 3 (ipykernel)",
   "language": "python",
   "name": "python3"
  },
  "language_info": {
   "codemirror_mode": {
    "name": "ipython",
    "version": 3
   },
   "file_extension": ".py",
   "mimetype": "text/x-python",
   "name": "python",
   "nbconvert_exporter": "python",
   "pygments_lexer": "ipython3",
   "version": "3.10.8"
  }
 },
 "nbformat": 4,
 "nbformat_minor": 5
}
