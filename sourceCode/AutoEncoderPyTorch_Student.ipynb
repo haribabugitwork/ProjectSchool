{
 "cells": [
  {
   "cell_type": "code",
   "execution_count": null,
   "id": "c9428ede-5c94-4fdc-86b1-84552b1139a3",
   "metadata": {},
   "outputs": [],
   "source": [
    "import numpy as np\n",
    "import torch\n",
    "import torch.nn as nn\n",
    "import torch.nn.functional as F\n",
    "import torch.optim as optim\n",
    "import matplotlib.pyplot as plt\n",
    "from torch.utils.data.sampler import SubsetRandomSampler\n",
    "from torch.utils.data import DataLoader\n",
    "from torchvision import datasets, transforms\n",
    "import matplotlib.pyplot as plt\n",
    "%matplotlib inline\n",
    "import torch.nn as nn"
   ]
  },
  {
   "cell_type": "code",
   "execution_count": null,
   "id": "23e743f5-6e8b-4b75-8fc2-a9a0375e7e6b",
   "metadata": {},
   "outputs": [],
   "source": [
    "# Converting data to torch.FloatTensor\n",
    "transform = transforms.ToTensor()"
   ]
  },
  {
   "cell_type": "code",
   "execution_count": null,
   "id": "daa94c90-717c-4743-bc20-7942f71c8b6a",
   "metadata": {},
   "outputs": [],
   "source": [
    "# Download the training and test datasets\n",
    "train_data = datasets.CIFAR10(root='data', train=True, download=True, transform=transform)\n",
    "test_data = datasets.CIFAR10(root='data', train=False, download=True, transform=transform)"
   ]
  },
  {
   "cell_type": "markdown",
   "id": "a243b802-f29c-4e71-8ea1-34c9c2d37ad3",
   "metadata": {},
   "source": [
    "#### Initialize train and test loaders"
   ]
  },
  {
   "cell_type": "code",
   "execution_count": null,
   "id": "3b1a77e0-7f2a-431e-88a9-e76486acdd0b",
   "metadata": {
    "deletable": false,
    "nbgrader": {
     "cell_type": "code",
     "checksum": "47bd30d0f7696299092ee28be53ea71c",
     "grade": false,
     "grade_id": "cell-508bb2967aae2992",
     "locked": false,
     "schema_version": 3,
     "solution": true,
     "task": false
    },
    "tags": []
   },
   "outputs": [],
   "source": [
    "# Prepare data loaders\n",
    "train_loader = torch.utils.data.DataLoader(train_data, batch_size=32, num_workers=0)\n",
    "# YOUR CODE HERE\n",
    "raise NotImplementedError()"
   ]
  },
  {
   "cell_type": "code",
   "execution_count": null,
   "id": "a2310c50-a195-40ad-8c16-5f964c5587bb",
   "metadata": {
    "deletable": false,
    "editable": false,
    "nbgrader": {
     "cell_type": "code",
     "checksum": "1ca0d40d16723e28904ff5de4d0629d2",
     "grade": true,
     "grade_id": "cell-8da06d3bf9f7cdcf",
     "locked": true,
     "points": 10,
     "schema_version": 3,
     "solution": false,
     "task": false
    },
    "tags": []
   },
   "outputs": [],
   "source": []
  },
  {
   "cell_type": "code",
   "execution_count": null,
   "id": "247e7314-8cf2-4a7b-9579-d9761119500b",
   "metadata": {},
   "outputs": [],
   "source": [
    "# Utility functions to un-normalize and display an image\n",
    "def imshow(img):\n",
    "    img = img / 2 +0.5\n",
    "    plt.imshow(np.transpose(img, (1, 2, 0)))"
   ]
  },
  {
   "cell_type": "code",
   "execution_count": null,
   "id": "283c0b0d-aad6-42d0-8ca4-fc37a9c78648",
   "metadata": {
    "deletable": false,
    "nbgrader": {
     "cell_type": "code",
     "checksum": "4603f4f9eb93e8a51c5393a9dc688f2e",
     "grade": false,
     "grade_id": "cell-03f1f07d7eaf6616",
     "locked": false,
     "schema_version": 3,
     "solution": true,
     "task": false
    },
    "tags": []
   },
   "outputs": [],
   "source": [
    "# Defin the image classes\n",
    "# YOUR CODE HERE\n",
    "raise NotImplementedError()"
   ]
  },
  {
   "cell_type": "code",
   "execution_count": null,
   "id": "481fdec3-1b37-4f38-bc5f-95d781e4465c",
   "metadata": {
    "deletable": false,
    "editable": false,
    "nbgrader": {
     "cell_type": "code",
     "checksum": "506196184da5f945ca80199616e12129",
     "grade": true,
     "grade_id": "cell-92743a9474b201c2",
     "locked": true,
     "points": 10,
     "schema_version": 3,
     "solution": false,
     "task": false
    },
    "tags": []
   },
   "outputs": [],
   "source": []
  },
  {
   "cell_type": "code",
   "execution_count": null,
   "id": "c66ff771-b626-4538-af3d-c46d74efa851",
   "metadata": {
    "deletable": false,
    "nbgrader": {
     "cell_type": "code",
     "checksum": "8444d1c17aff326d86335bae4a208331",
     "grade": false,
     "grade_id": "cell-a1893f49d98d93d2",
     "locked": false,
     "schema_version": 3,
     "solution": true,
     "task": false
    },
    "tags": []
   },
   "outputs": [],
   "source": [
    "# Obtain one batch of training images\n",
    "dataiter = iter(train_loader)\n",
    "images, labels = next(dataiter)\n",
    "# Convert images to numpy array\n",
    "# YOUR CODE HERE\n",
    "raise NotImplementedError()"
   ]
  },
  {
   "cell_type": "code",
   "execution_count": null,
   "id": "77e00529-7115-49b0-a6b8-f227c1e341a8",
   "metadata": {
    "deletable": false,
    "editable": false,
    "nbgrader": {
     "cell_type": "code",
     "checksum": "9c7c5d150744b84e119bc483dc305d67",
     "grade": true,
     "grade_id": "cell-ce2563a4e8f5dc71",
     "locked": true,
     "points": 10,
     "schema_version": 3,
     "solution": false,
     "task": false
    },
    "tags": []
   },
   "outputs": [],
   "source": []
  },
  {
   "cell_type": "code",
   "execution_count": null,
   "id": "569e1847-1cc2-447c-bfc3-625ae67fcd55",
   "metadata": {},
   "outputs": [],
   "source": [
    "# Plot the images\n",
    "fig = plt.figure(figsize=(8,8))\n",
    "# display images\n",
    "for idx in np.arange(9):\n",
    "    ax = fig.add_subplot(3, 3, idx+1, xticks=[], yticks=[])\n",
    "    imshow(images[idx])\n",
    "    ax.set_title(classes[labels[idx]])\n",
    "plt.show()    "
   ]
  },
  {
   "cell_type": "code",
   "execution_count": null,
   "id": "6db37275-0db3-4f33-9ca0-8bc13c8be431",
   "metadata": {
    "deletable": false,
    "nbgrader": {
     "cell_type": "code",
     "checksum": "a8969686c316969763b6656a0de1c854",
     "grade": false,
     "grade_id": "cell-2361d0f3c077d0e4",
     "locked": false,
     "schema_version": 3,
     "solution": true,
     "task": false
    },
    "tags": []
   },
   "outputs": [],
   "source": [
    "# Define the Convolutional Autoencoder\n",
    "class ConvAutoEncoder(nn.Module):\n",
    "    def __init__(self):\n",
    "        super(ConvAutoEncoder, self).__init__()\n",
    "        \n",
    "        # Encoder\n",
    "        self.conv1 = nn.Conv2d(3, 16, 3, padding=1)\n",
    "        # DEFINE NEXT CONV LAYER and Pooling layer\n",
    "        # Use 3 by 3 Filter and padding as 1\n",
    "        # Use Max Pooling with 2 By 2\n",
    "        # YOUR CODE HERE\n",
    "        raise NotImplementedError()\n",
    "        # Decoder\n",
    "        # DEFINE THE DECODER \n",
    "        # YOUR CODE HERE\n",
    "        raise NotImplementedError()\n",
    "        \n",
    "    def forward(self, x):\n",
    "        x = F.relu(self.conv1(x))\n",
    "        x = self.pool(x)\n",
    "        x = F.relu(self.conv2(x))\n",
    "        x = self.pool(x)\n",
    "        x = F.relu(self.t_conv1(x))\n",
    "        x = F.sigmoid(self.t_conv2(x))\n",
    "        return x"
   ]
  },
  {
   "cell_type": "code",
   "execution_count": null,
   "id": "53b98a19-210c-479d-8ab0-797fc39dc9ba",
   "metadata": {
    "deletable": false,
    "editable": false,
    "nbgrader": {
     "cell_type": "code",
     "checksum": "5e368addb793796e598edc95f4c9014f",
     "grade": true,
     "grade_id": "cell-0030afacd8f8a9c8",
     "locked": true,
     "points": 10,
     "schema_version": 3,
     "solution": false,
     "task": false
    },
    "tags": []
   },
   "outputs": [],
   "source": []
  },
  {
   "cell_type": "code",
   "execution_count": null,
   "id": "b5c3958d-2ab2-4187-a4e2-4518db50b906",
   "metadata": {
    "deletable": false,
    "editable": false,
    "nbgrader": {
     "cell_type": "code",
     "checksum": "123ea7e2494aa30faffa5b55d33df48e",
     "grade": true,
     "grade_id": "cell-53e356a4b70c5e38",
     "locked": true,
     "points": 10,
     "schema_version": 3,
     "solution": false,
     "task": false
    },
    "tags": []
   },
   "outputs": [],
   "source": []
  },
  {
   "cell_type": "code",
   "execution_count": null,
   "id": "ff666512-6b1a-4c9d-8a4f-f2e236ff179a",
   "metadata": {},
   "outputs": [],
   "source": [
    "# Instantiate the model\n",
    "model = ConvAutoEncoder()\n",
    "print(model)"
   ]
  },
  {
   "cell_type": "code",
   "execution_count": null,
   "id": "87bad82b-0537-428f-adc8-8fa4bcdac3a4",
   "metadata": {
    "deletable": false,
    "nbgrader": {
     "cell_type": "code",
     "checksum": "f069d55a86ad7650078e0a6f5507895b",
     "grade": false,
     "grade_id": "cell-1573835b89e440ff",
     "locked": false,
     "schema_version": 3,
     "solution": true,
     "task": false
    },
    "tags": []
   },
   "outputs": [],
   "source": [
    "# Loss function\n",
    "# Use Binary Cross Entropy loss and assign it to criterion object\n",
    "# YOUR CODE HERE\n",
    "raise NotImplementedError()"
   ]
  },
  {
   "cell_type": "code",
   "execution_count": null,
   "id": "eecb3d71-a2b2-45ce-a9f7-192dbcd8212f",
   "metadata": {
    "deletable": false,
    "editable": false,
    "nbgrader": {
     "cell_type": "code",
     "checksum": "b2ede57b8880bb60da2cfdb63b6e2e73",
     "grade": true,
     "grade_id": "cell-d828e791494f9617",
     "locked": true,
     "points": 10,
     "schema_version": 3,
     "solution": false,
     "task": false
    },
    "tags": []
   },
   "outputs": [],
   "source": []
  },
  {
   "cell_type": "code",
   "execution_count": null,
   "id": "d74d4699-b50f-44d0-b16e-f544e02f9e10",
   "metadata": {
    "deletable": false,
    "nbgrader": {
     "cell_type": "code",
     "checksum": "fb4f355766f8a2a36ec135038023dd19",
     "grade": false,
     "grade_id": "cell-e24c243c209a1210",
     "locked": false,
     "schema_version": 3,
     "solution": true,
     "task": false
    },
    "tags": []
   },
   "outputs": [],
   "source": [
    "# Optimizer\n",
    "# Use Adam 'optimizer' with learning 0.001\n",
    "# YOUR CODE HERE\n",
    "raise NotImplementedError()"
   ]
  },
  {
   "cell_type": "code",
   "execution_count": null,
   "id": "d2736855-e3ee-4342-8f50-1d1784c36784",
   "metadata": {
    "deletable": false,
    "editable": false,
    "nbgrader": {
     "cell_type": "code",
     "checksum": "8d6759b0c8d3919f2af0aa75ad2a905a",
     "grade": true,
     "grade_id": "cell-1cf7dcd74a7b40c9",
     "locked": true,
     "points": 10,
     "schema_version": 3,
     "solution": false,
     "task": false
    },
    "tags": []
   },
   "outputs": [],
   "source": []
  },
  {
   "cell_type": "code",
   "execution_count": null,
   "id": "1622b3df-0c98-4d6b-843d-1a49a132fc89",
   "metadata": {},
   "outputs": [],
   "source": [
    "# Epochs\n",
    "n_epochs = 2\n",
    "for epoch in range(1, n_epochs+1):\n",
    "    # monitor training loss\n",
    "    train_loss = 0.0\n",
    "    \n",
    "    # Training\n",
    "    for data in train_loader:\n",
    "        images, _ = data\n",
    "        optimizer.zero_grad()\n",
    "        # Send input images through network and\n",
    "        # calculate loss, perform backprop and optimize\n",
    "       \n",
    "        outputs = model(images)\n",
    "        loss = criterion(outputs, images)\n",
    "        loss.backward()\n",
    "        optimizer.step()\n",
    "        \n",
    "        train_loss += loss.item()*images.size(0)\n",
    "        \n",
    "    train_loss = train_loss/len(train_loader)\n",
    "    print('Epoch: {} \\tTraining Loss: {:.6f}'.format(epoch, train_loss))"
   ]
  },
  {
   "cell_type": "code",
   "execution_count": null,
   "id": "96b849f8-ca62-4eac-ac4d-8a17630c7011",
   "metadata": {},
   "outputs": [],
   "source": [
    "# Batch of test images\n",
    "dataiter = iter(test_loader)\n",
    "images, labels = next(dataiter)"
   ]
  },
  {
   "cell_type": "code",
   "execution_count": null,
   "id": "3676cb04-46c6-40fb-ae1d-0ebbfd6d1aed",
   "metadata": {},
   "outputs": [],
   "source": [
    "# Sample outputs\n",
    "output = model(images)\n",
    "images = images.numpy()"
   ]
  },
  {
   "cell_type": "code",
   "execution_count": null,
   "id": "9609d9ee-4f11-433a-b494-0514fd063835",
   "metadata": {},
   "outputs": [],
   "source": [
    "batch_size = 32\n",
    "output = output.view(batch_size, 3, 32, 32)\n",
    "output = output.detach().numpy()"
   ]
  },
  {
   "cell_type": "code",
   "execution_count": null,
   "id": "38c284ee-fbfd-44a7-bcfa-fabf5dfbce04",
   "metadata": {},
   "outputs": [],
   "source": [
    "# Original images\n",
    "print(\"Original Images\")\n",
    "fig, axes = plt.subplots(nrows=1, ncols=5, sharex=True, sharey=True, figsize=(12,4))\n",
    "for idx in np.arange(5):\n",
    "    ax = fig.add_subplot(1, 5, idx+1, xticks=[], yticks=[])\n",
    "    imshow(images[idx])\n",
    "    ax.set_title(classes[labels[idx]])\n",
    "plt.show()\n",
    "\n",
    "# Reconstructed images\n",
    "print(\"Reconstructed Images\")\n",
    "fig, axes = plt.subplots(nrows=1, ncols=5, sharex=True, sharey=True, figsize=(12, 4))\n",
    "for idx in np.arange(5):\n",
    "    ax = fig.add_subplot(1, 5, idx+1, xticks=[], yticks=[])\n",
    "    imshow(output[idx])\n",
    "    ax.set_title(classes[labels[idx]])\n",
    "    \n",
    "plt.show()"
   ]
  },
  {
   "cell_type": "code",
   "execution_count": null,
   "id": "a7b0054f-e054-4451-9e5a-6c80952c02a3",
   "metadata": {},
   "outputs": [],
   "source": []
  }
 ],
 "metadata": {
  "kernelspec": {
   "display_name": "Python 3 (ipykernel)",
   "language": "python",
   "name": "python3"
  },
  "language_info": {
   "codemirror_mode": {
    "name": "ipython",
    "version": 3
   },
   "file_extension": ".py",
   "mimetype": "text/x-python",
   "name": "python",
   "nbconvert_exporter": "python",
   "pygments_lexer": "ipython3",
   "version": "3.10.8"
  }
 },
 "nbformat": 4,
 "nbformat_minor": 5
}
