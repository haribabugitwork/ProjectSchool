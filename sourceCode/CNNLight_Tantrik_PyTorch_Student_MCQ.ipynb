{
 "cells": [
  {
   "cell_type": "markdown",
   "id": "3b7ab815-cd4f-467e-96f9-81b3a541419f",
   "metadata": {},
   "source": [
    "## Image Classification using Convolutional Neural Networks (CNN) on CIFAR-10 Dataset\n",
    "### Problem Description\n",
    "#### The goal of this assignment is to build a Convolutional Neural Network (CNN) for image classification using a subset of the CIFAR-10 dataset. The CIFAR-10 dataset consists of 60,000 32x32 color images in 10 different classes, with 6,000 images per class. For this assignment, you will be provided with a subset of the CIFAR-10 dataset consisting of 40 images for training and 8 images for testing, only 4 different classes.\n",
    "\n",
    "### Objectives\n",
    "#### Understand the structure and components of CNNs.\n",
    "#### Implement a CNN using PyTorch to classify images from the CIFAR-10 subset.\n",
    "#### Train the CNN on the provided training data and evaluate its performance on the test data.\n",
    "\n",
    "### Input\n",
    "#### CIFAR-10 Subset: The dataset contains images categorized into the following 10 classes: airplane, automobile, bird, cat, deer, dog, frog, horse, ship, and truck. But for this assignment the subset contains only first four classes: airplane, automobile, bird and cat\n",
    "#### Training Data: 40 images\n",
    "#### Testing Data: 8 images\n",
    "#### Model Architecture: You will design and implement a CNN model. You may use standard layers like convolutional layers, pooling layers, fully connected layers, etc."
   ]
  },
  {
   "cell_type": "code",
   "execution_count": null,
   "id": "1e301144-90a8-4a9d-84aa-aee50c42cf4e",
   "metadata": {},
   "outputs": [],
   "source": []
  },
  {
   "cell_type": "markdown",
   "id": "dc8175fc-f41e-4d3e-b3fe-1c706801dcd9",
   "metadata": {},
   "source": [
    "### Import Required Libraries"
   ]
  },
  {
   "cell_type": "code",
   "execution_count": null,
   "id": "addebec3-05cf-438e-b865-5a2fb27a2ce6",
   "metadata": {},
   "outputs": [],
   "source": [
    "# Import the required Libraries\n",
    "import numpy as np\n",
    "from torch.utils.data import Dataset, DataLoader\n",
    "from PIL import Image\n",
    "import torch\n",
    "import torch.nn as nn\n",
    "import torch.optim as optim\n",
    "import torchvision\n",
    "import torchvision.transforms as transforms\n",
    "from torch.utils.data import DataLoader, Dataset\n",
    "#import torchmetrics\n",
    "import torch.nn as nn\n",
    "import torch.nn.functional as F\n",
    "import matplotlib.pyplot as plt"
   ]
  },
  {
   "cell_type": "markdown",
   "id": "6af471ad-07f1-4d26-9921-1ba7b03dc1fb",
   "metadata": {},
   "source": [
    "### Preprocessing and EDA"
   ]
  },
  {
   "cell_type": "code",
   "execution_count": null,
   "id": "e149421a-3a0d-4ae4-aff2-4eae385208e3",
   "metadata": {},
   "outputs": [],
   "source": [
    "# Define transformations\n",
    "# Define a series of transformations to be applied to the dataset\n",
    "transform = transforms.Compose([\n",
    "    # Resize the input image to 28x28 pixels\n",
    "    transforms.Resize((28, 28)),\n",
    "    # Convert the image from a PIL image or NumPy array to a PyTorch tensor\n",
    "    transforms.ToTensor(),\n",
    "    # Normalize the tensor image with the mean and standard deviation values for each channel (R, G, B)\n",
    "    transforms.Normalize((0.4914, 0.4822, 0.4465), (0.2023, 0.1994, 0.2010)),\n",
    "])"
   ]
  },
  {
   "cell_type": "markdown",
   "id": "b5e682bc-694d-4618-b63d-72590875153e",
   "metadata": {},
   "source": [
    "#### Load training and testing data"
   ]
  },
  {
   "cell_type": "code",
   "execution_count": null,
   "id": "343840b7-978f-461b-9f69-8992c24b31af",
   "metadata": {},
   "outputs": [],
   "source": [
    "# Define a custom dataset class\n",
    "class CustomCIFAR10Dataset(Dataset):\n",
    "    def __init__(self, data, labels, transform=None):\n",
    "        self.data = data\n",
    "        self.labels = labels\n",
    "        self.transform = transform\n",
    "\n",
    "    def __len__(self):\n",
    "        return len(self.data)\n",
    "\n",
    "    def __getitem__(self, idx):\n",
    "        \n",
    "        img, label = self.data[idx], self.labels[idx]\n",
    "        img = img.transpose((1, 2, 0))\n",
    "        img = Image.fromarray(img.astype('uint8'))  # Convert to PIL image\n",
    "        if self.transform:\n",
    "            img = self.transform(img)\n",
    "        return img, label"
   ]
  },
  {
   "cell_type": "code",
   "execution_count": null,
   "id": "80664588-3e2e-463b-82e7-d549bf877063",
   "metadata": {
    "deletable": false,
    "nbgrader": {
     "cell_type": "code",
     "checksum": "ebf4ead1d482e3b5396afd3ab27317c3",
     "grade": false,
     "grade_id": "cell-ba06a038ea05472f",
     "locked": false,
     "schema_version": 3,
     "solution": true,
     "task": false
    },
    "tags": []
   },
   "outputs": [],
   "source": [
    "# YOUR CODE HERE\n",
    "raise NotImplementedError()"
   ]
  },
  {
   "cell_type": "code",
   "execution_count": null,
   "id": "7ddcd40e-336a-45d6-9a70-c5966690fc84",
   "metadata": {},
   "outputs": [],
   "source": [
    "# Create an instance of the CustomCIFAR10Dataset for the training subset,\n",
    "# using the provided training data and labels, and apply the specified transformations.\n",
    "train_dataset = CustomCIFAR10Dataset(train_subset_data, train_subset_labels, transform=transform)"
   ]
  },
  {
   "cell_type": "code",
   "execution_count": null,
   "id": "a49a2256-9904-464a-aa4f-6c33ec3fc507",
   "metadata": {
    "deletable": false,
    "nbgrader": {
     "cell_type": "code",
     "checksum": "412cdc7e86ccea7436376afa6a2e8193",
     "grade": false,
     "grade_id": "cell-0418125b616b9a91",
     "locked": false,
     "schema_version": 3,
     "solution": true,
     "task": false
    },
    "tags": []
   },
   "outputs": [],
   "source": [
    "# Create an instance of the CustomCIFAR10Dataset for the test subset,\n",
    "# using the provided test data and labels, and apply the specified transformations.\n",
    "# hint: test_dataset = <>\n",
    "# YOUR CODE HERE\n",
    "raise NotImplementedError()"
   ]
  },
  {
   "cell_type": "code",
   "execution_count": null,
   "id": "d547f2d4-9089-4c12-bfa8-dc6b28645f73",
   "metadata": {},
   "outputs": [],
   "source": [
    "# Create a DataLoader for the training dataset with a batch size of 4 and shuffling enabled.\n",
    "train_loader = DataLoader(train_dataset, batch_size=4, shuffle=True)"
   ]
  },
  {
   "cell_type": "code",
   "execution_count": null,
   "id": "8eb9413b-05c7-4c41-bd04-6f75c424b898",
   "metadata": {
    "deletable": false,
    "nbgrader": {
     "cell_type": "code",
     "checksum": "1fcf668f3fbeaa968b8882fe39516b42",
     "grade": false,
     "grade_id": "cell-6526f3d9d10bc98a",
     "locked": false,
     "schema_version": 3,
     "solution": true,
     "task": false
    },
    "tags": []
   },
   "outputs": [],
   "source": [
    "# Create a DataLoader for the test dataset with a batch size of 4 and shuffling disabled.\n",
    "# hint: test_loader = <>\n",
    "# YOUR CODE HERE\n",
    "raise NotImplementedError()"
   ]
  },
  {
   "cell_type": "markdown",
   "id": "d033518e-3530-485a-9b4c-addb6de5b9dd",
   "metadata": {},
   "source": [
    "#### Size and shape of dataset"
   ]
  },
  {
   "cell_type": "code",
   "execution_count": null,
   "id": "ec002300-c439-46ba-896c-f92cc88645b7",
   "metadata": {},
   "outputs": [],
   "source": [
    "# Print some information about the subsets\n",
    "print(f'Train Size: {len(train_dataset)}')\n",
    "print(f'Test Size: {len(test_dataset)}')\n",
    "# Example of iterating through the DataLoader\n",
    "for images, labels in train_loader:\n",
    "    print(f'Batch of images shape: {images.shape}')\n",
    "    print(f'Batch of labels shape: {labels.shape}')\n",
    "    break    "
   ]
  },
  {
   "cell_type": "code",
   "execution_count": null,
   "id": "4f25545b-c8b6-4b03-8444-56efe45b31f8",
   "metadata": {},
   "outputs": [],
   "source": []
  },
  {
   "cell_type": "code",
   "execution_count": null,
   "id": "b987d66c-34b3-42ef-afc9-14fb4908bf98",
   "metadata": {
    "deletable": false,
    "editable": false,
    "nbgrader": {
     "cell_type": "code",
     "checksum": "d7d374a9c40b7e9e3efa84d27a974384",
     "grade": true,
     "grade_id": "cell-1b0690376d10f4f3",
     "locked": true,
     "points": 5,
     "schema_version": 3,
     "solution": false,
     "task": false
    },
    "tags": []
   },
   "outputs": [],
   "source": []
  },
  {
   "cell_type": "code",
   "execution_count": null,
   "id": "75a9cebd-b097-4474-a8a0-f54b78ea533d",
   "metadata": {
    "deletable": false,
    "editable": false,
    "nbgrader": {
     "cell_type": "code",
     "checksum": "ef6ffb9d1b6a765747929b90ae921991",
     "grade": true,
     "grade_id": "cell-2afcdc52fb719496",
     "locked": true,
     "points": 5,
     "schema_version": 3,
     "solution": false,
     "task": false
    },
    "tags": []
   },
   "outputs": [],
   "source": []
  },
  {
   "cell_type": "code",
   "execution_count": null,
   "id": "adc7d039-415f-4d30-9a45-6390c8dfc8c7",
   "metadata": {
    "deletable": false,
    "nbgrader": {
     "cell_type": "code",
     "checksum": "15fc48f1db03ea000029afa14076f3c9",
     "grade": false,
     "grade_id": "cell-766e759830bda468",
     "locked": false,
     "schema_version": 3,
     "solution": true,
     "task": false
    },
    "tags": []
   },
   "outputs": [],
   "source": [
    "# Define the list of class names corresponding to the CIFAR-10 dataset labels.\n",
    "# hint1: Check the problem description and the input at the beginning of this Notebook\n",
    "# hint2: classes = ['airplane', 'automobile'....]\n",
    "\n",
    "# YOUR CODE HERE\n",
    "raise NotImplementedError()"
   ]
  },
  {
   "cell_type": "code",
   "execution_count": null,
   "id": "af766dd4-fa3a-44f6-b508-deedc50cd674",
   "metadata": {
    "deletable": false,
    "editable": false,
    "nbgrader": {
     "cell_type": "code",
     "checksum": "195c23a7ecdd9a6d2ae7f98900153be7",
     "grade": true,
     "grade_id": "cell-c111027216424ad9",
     "locked": true,
     "points": 0,
     "schema_version": 3,
     "solution": false,
     "task": false
    },
    "tags": []
   },
   "outputs": [],
   "source": []
  },
  {
   "cell_type": "markdown",
   "id": "26e33d36-dfb0-4594-a7ca-de45a363d1d8",
   "metadata": {},
   "source": [
    "#### Display random images from training and testing dataset"
   ]
  },
  {
   "cell_type": "code",
   "execution_count": null,
   "id": "49488fee-ece1-4bff-9230-02af86cad19e",
   "metadata": {},
   "outputs": [],
   "source": [
    "# functions to show an image\n",
    "def imshow(img):\n",
    "    img = img / 2 + 0.5     # unnormalize\n",
    "    npimg = img.numpy()\n",
    "    plt.imshow(np.transpose(npimg, (1, 2, 0)))\n",
    "    plt.show()"
   ]
  },
  {
   "cell_type": "code",
   "execution_count": null,
   "id": "a48da0d8-ae99-4db7-b633-f314732c7679",
   "metadata": {},
   "outputs": [],
   "source": [
    "# Get some random training images for display\n",
    "\n",
    "# Create an iterator from the training data loader\n",
    "train_dataiter = iter(train_loader)\n",
    "# Get the next batch of images and labels from the iterator\n",
    "images, labels = next(train_dataiter)  \n",
    "\n",
    "# Show images\n",
    "# Display the images in a grid using the imshow function\n",
    "imshow(torchvision.utils.make_grid(images))  \n",
    "\n",
    "# Print labels\n",
    "# Print the labels of the images in the batch\n",
    "print(' '.join(f'{classes[labels[j]]:5s}' for j in range(4)))"
   ]
  },
  {
   "cell_type": "code",
   "execution_count": null,
   "id": "72f32afd-b9c1-4a31-92e3-43e59e75e7ef",
   "metadata": {
    "deletable": false,
    "editable": false,
    "nbgrader": {
     "cell_type": "code",
     "checksum": "da034d66c2648f7863a90e0dcbd33e86",
     "grade": true,
     "grade_id": "cell-d2058a539e73dd1f",
     "locked": true,
     "points": 0,
     "schema_version": 3,
     "solution": false,
     "task": false
    },
    "tags": []
   },
   "outputs": [],
   "source": []
  },
  {
   "cell_type": "code",
   "execution_count": null,
   "id": "c1b8afa5-0b3f-4448-b36d-ebd83b37d424",
   "metadata": {
    "deletable": false,
    "nbgrader": {
     "cell_type": "code",
     "checksum": "739cac64245a6f6242106e7aa4dcc90c",
     "grade": false,
     "grade_id": "cell-f94dbfc45a157df9",
     "locked": false,
     "schema_version": 3,
     "solution": true,
     "task": false
    },
    "tags": []
   },
   "outputs": [],
   "source": [
    "# Get some random test images for display\n",
    "# Step1: Create an iterator from the test data loader\n",
    "# Step2: Get the next batch of images and labels from the iterator\n",
    "# Step3: Display the images in a grid using the imshow function\n",
    "# Step4: Print the labels of the images in the batch\n",
    "# hint: Refer the code in the above cell that displays training images\n",
    "\n",
    "# YOUR CODE HERE\n",
    "raise NotImplementedError()"
   ]
  },
  {
   "cell_type": "code",
   "execution_count": null,
   "id": "1d499ce7-857d-437b-83b0-8c91f69b0b2b",
   "metadata": {
    "deletable": false,
    "editable": false,
    "nbgrader": {
     "cell_type": "code",
     "checksum": "dd7cdbc0bc24cd7d4f7bdc0f86f78231",
     "grade": true,
     "grade_id": "cell-5b95642c34cc02d7",
     "locked": true,
     "points": 7,
     "schema_version": 3,
     "solution": false,
     "task": false
    },
    "tags": []
   },
   "outputs": [],
   "source": []
  },
  {
   "cell_type": "markdown",
   "id": "be5cec4f-f698-4833-9df6-c4a6385db0d0",
   "metadata": {},
   "source": [
    "### Design simple CNN architecture"
   ]
  },
  {
   "cell_type": "markdown",
   "id": "140fcc4f-c6f4-4439-946e-87b29aadc2db",
   "metadata": {},
   "source": [
    "#### Design the following Convolutional Neural Network architecture for Image Processing\n",
    "#### and Classification, apply the Pooling and Activation functions as per the below design"
   ]
  },
  {
   "attachments": {
    "8550ab0e-9f21-4dfe-8a35-f38a11b22e66.png": {
     "image/png": "[encoded data removed]"
    }
   },
   "cell_type": "markdown",
   "id": "9c6a1aa8-9312-4aee-b592-6c362e202ca4",
   "metadata": {},
   "source": [
    "![image.png](attachment:8550ab0e-9f21-4dfe-8a35-f38a11b22e66.png)"
   ]
  },
  {
   "cell_type": "code",
   "execution_count": null,
   "id": "50edf8e5-9753-43d5-9531-51ff0e0e08aa",
   "metadata": {
    "deletable": false,
    "nbgrader": {
     "cell_type": "code",
     "checksum": "01f726f15676e5b6b564a45a55450035",
     "grade": false,
     "grade_id": "cell-f3dd539128531cc7",
     "locked": false,
     "schema_version": 3,
     "solution": true,
     "task": false
    },
    "tags": []
   },
   "outputs": [],
   "source": [
    "# Define a simple convolutional neural network (CNN) class\n",
    "\n",
    "class SimpleCNN(nn.Module):\n",
    "    def __init__(self):\n",
    "        super(SimpleCNN, self).__init__()\n",
    "        # First convolutional layer: input channels = 3 (RGB), output channels = 32, \n",
    "        #                            3x3 kernel, stride=1, padding=1\n",
    "        # Second convolutional layer: input channels = 32, output channels = 64,\n",
    "        #                             3x3 kernel, stride=1, padding=1\n",
    "        # Max pooling layer: 2x2 kernel with stride = 2\n",
    "        # First fully connected layer: input features = 64 * 8 * 8, output features = 512\n",
    "        # Second fully connected layer: input features = 512, output features = 10 (number of classes)\n",
    "        # hint: Use Class variables, e.g self.conv1, self.pool, self.fc1\n",
    "        # YOUR CODE HERE\n",
    "        raise NotImplementedError()\n",
    "    def forward(self, x):\n",
    "        # Apply the first convolutional layer, followed by ReLU activation and max pooling\n",
    "        # Apply the second convolutional layer, followed by ReLU activation and max pooling\n",
    "        # Flatten the tensor into a 1D vector (except for the batch dimension)\n",
    "        # Apply the first fully connected layer, followed by ReLU activation\n",
    "        # Apply the second fully connected layer (output layer)\n",
    "        # hint: No softmax here, logits are used\n",
    "        # YOUR CODE HERE\n",
    "        raise NotImplementedError()\n",
    "        return x\n",
    "    "
   ]
  },
  {
   "cell_type": "code",
   "execution_count": null,
   "id": "cb35ef23-a497-4242-b92b-2755efc44134",
   "metadata": {},
   "outputs": [],
   "source": [
    "# Initialize the model\n",
    "# This line creates an instance of the SimpleCNN class defined earlier.\n",
    "model = SimpleCNN()"
   ]
  },
  {
   "cell_type": "code",
   "execution_count": null,
   "id": "ff5bda3b-068a-4208-a86f-0f08f12a1cee",
   "metadata": {
    "deletable": false,
    "editable": false,
    "nbgrader": {
     "cell_type": "code",
     "checksum": "c00f41909572a464e11ca916b7fe5c4d",
     "grade": true,
     "grade_id": "cell-c34da80612791786",
     "locked": true,
     "points": 10,
     "schema_version": 3,
     "solution": false,
     "task": false
    },
    "tags": []
   },
   "outputs": [],
   "source": []
  },
  {
   "cell_type": "markdown",
   "id": "11e06abc-e592-4055-ae10-3e7ac72326f3",
   "metadata": {},
   "source": [
    "\n",
    "- Q1: After the second convolutional layer in the `SimpleCNN` model, what is the total parameter count?\n",
    "\n",
    "  - [ ] 16,896\n",
    "  - [ ] 18,896\n",
    "  - [ ] 36,928\n",
    "  - [x] 19,392\n",
    "\n"
   ]
  },
  {
   "cell_type": "markdown",
   "id": "293f8573-2792-4b88-8a32-68f5390ebea0",
   "metadata": {},
   "source": [
    "\n",
    "- Q2: After applying the second convolutional layer to the max-pooled output of the first layer, what will be the output shape?\n",
    "\n",
    "  - [ ] (64, 14, 14)\n",
    "  - [ ] (64, 12, 12)\n",
    "  - [ ] (32, 14, 14)\n",
    "  - [x] (64, 14, 14)\n",
    "\n"
   ]
  },
  {
   "cell_type": "code",
   "execution_count": null,
   "id": "7079881c-7a33-4bf6-9393-aab26956c7a5",
   "metadata": {
    "deletable": false,
    "editable": false,
    "nbgrader": {
     "cell_type": "code",
     "checksum": "89d9ab56c1d3853c472890a60ec926d3",
     "grade": true,
     "grade_id": "cell-b9e336aee1476afc",
     "locked": true,
     "points": 10,
     "schema_version": 3,
     "solution": false,
     "task": false
    },
    "tags": []
   },
   "outputs": [],
   "source": []
  },
  {
   "cell_type": "markdown",
   "id": "addb6d74-0d19-4d2c-8a05-27ed5c67a26b",
   "metadata": {},
   "source": [
    "#### Select loss and optimizer functions"
   ]
  },
  {
   "cell_type": "code",
   "execution_count": null,
   "id": "db806446-c58f-4ea7-bab6-7dc19978d953",
   "metadata": {
    "deletable": false,
    "nbgrader": {
     "cell_type": "code",
     "checksum": "3a66871eaece2439ca6fbe2c8b97ca54",
     "grade": false,
     "grade_id": "cell-c3a353f9bbc75920",
     "locked": false,
     "schema_version": 3,
     "solution": true,
     "task": false
    },
    "tags": []
   },
   "outputs": [],
   "source": [
    "# Set loss function and optimizer\n",
    "\n",
    "# Create and initialize the loss function to CrossEntropyLoss\n",
    "# This loss function is suitable for multi-class classification problems\n",
    "# YOUR CODE HERE\n",
    "raise NotImplementedError()\n",
    "\n",
    "# Create and initialize the optimizer to Adam optimizer\n",
    "# The learning rate (lr) is set to 0.001, which controls the step size for updating the model parameters\n",
    "# YOUR CODE HERE\n",
    "raise NotImplementedError()"
   ]
  },
  {
   "cell_type": "code",
   "execution_count": null,
   "id": "3e61cebb-a145-4210-83a0-d50cf4767404",
   "metadata": {
    "deletable": false,
    "editable": false,
    "nbgrader": {
     "cell_type": "code",
     "checksum": "ec721ef6d1bf753191a3734bb844414b",
     "grade": true,
     "grade_id": "cell-e88bd6a6d81bf127",
     "locked": true,
     "points": 10,
     "schema_version": 3,
     "solution": false,
     "task": false
    },
    "tags": []
   },
   "outputs": [],
   "source": []
  },
  {
   "cell_type": "markdown",
   "id": "2260f27e-3ecf-4fe5-ad41-c39ecd8e649f",
   "metadata": {},
   "source": [
    "### Train the CNN model"
   ]
  },
  {
   "cell_type": "code",
   "execution_count": null,
   "id": "2ea20439-769d-4aa6-9b40-0474bb512417",
   "metadata": {
    "deletable": false,
    "nbgrader": {
     "cell_type": "code",
     "checksum": "1f2aad07b4b894b5c7c7eb5a953c519f",
     "grade": false,
     "grade_id": "cell-96372f2ecde2ed46",
     "locked": false,
     "schema_version": 3,
     "solution": true,
     "task": false
    },
    "tags": []
   },
   "outputs": [],
   "source": [
    "# Training function\n",
    "# hint1: train(model, train_loader, <loss_function_obj>, <optimizer_obj>, num_epochs=2)\n",
    "# hint2: replace criterion and optimizer with your <loss_function_obj> and <optimizer_obj> respectively\n",
    "def train(model, train_loader, criterion, optimizer, num_epochs=2):    \n",
    "    # Set the model to training mode\n",
    "    # This is important for certain layers like dropout and batch normalization, \n",
    "    #                     which behave differently during training and evaluation\n",
    "    model.train()\n",
    "    for epoch in range(num_epochs):\n",
    "        # Initialize the running loss to zero before starting the training loop\n",
    "        # Loop over the training data in batches\n",
    "        #    Zero the gradients for the optimizer\n",
    "        #    Forward pass: compute the model output for the given inputs\n",
    "        #    Compute the loss between the predicted outputs and the actual labels\n",
    "        #    Backward pass: compute the gradient of the loss with respect to model parameters\n",
    "        #    Perform a single optimization step to update the model parameters\n",
    "        #    Accumulate the loss for reporting\n",
    "        #    Print the average loss for every <n> mini-batches\n",
    "        # YOUR CODE HERE\n",
    "        raise NotImplementedError()\n",
    "    print('Finished Training')"
   ]
  },
  {
   "cell_type": "code",
   "execution_count": null,
   "id": "3fc5e2b4-3dc2-48ed-8007-020c89951c3d",
   "metadata": {
    "deletable": false,
    "editable": false,
    "nbgrader": {
     "cell_type": "code",
     "checksum": "dbd3cb0271819225a04d76968b964001",
     "grade": true,
     "grade_id": "cell-1c31487d4c15c518",
     "locked": true,
     "points": 17,
     "schema_version": 3,
     "solution": false,
     "task": false
    },
    "tags": []
   },
   "outputs": [],
   "source": []
  },
  {
   "cell_type": "code",
   "execution_count": null,
   "id": "08734ba9-cf7f-4a43-94c2-a62a25bcc0f4",
   "metadata": {
    "deletable": false,
    "nbgrader": {
     "cell_type": "code",
     "checksum": "a1f00e1d4bdab906b000cefa87cd860f",
     "grade": false,
     "grade_id": "cell-db5fe4ca10bd0a11",
     "locked": false,
     "schema_version": 3,
     "solution": true,
     "task": false
    },
    "tags": []
   },
   "outputs": [],
   "source": [
    "# Train the model\n",
    "num_epochs = 2\n",
    "# Invoke the train function to kick off the learning\n",
    "# Pass arguments: model, loader, loss, optimizer, num of epochs\n",
    "# hint: train(model, train_loader, <loss_function_obj>, <optimizer_obj>, num_epochs)\n",
    "# YOUR CODE HERE\n",
    "raise NotImplementedError()"
   ]
  },
  {
   "cell_type": "code",
   "execution_count": null,
   "id": "0c607b7a-a4b0-4586-95b0-c09bcd72bfce",
   "metadata": {
    "deletable": false,
    "editable": false,
    "nbgrader": {
     "cell_type": "code",
     "checksum": "94e772f149f65f4f8d3b85d92171cbae",
     "grade": true,
     "grade_id": "cell-d2e1dac120032451",
     "locked": true,
     "points": 5,
     "schema_version": 3,
     "solution": false,
     "task": false
    },
    "tags": []
   },
   "outputs": [],
   "source": []
  },
  {
   "cell_type": "markdown",
   "id": "1d6adea9-fd40-40ee-8f41-ad642f33d3e1",
   "metadata": {},
   "source": [
    "### Evaluate the model performance"
   ]
  },
  {
   "cell_type": "code",
   "execution_count": null,
   "id": "c2500fd0-f019-4901-8bd5-c5c1f60ccfd9",
   "metadata": {},
   "outputs": [],
   "source": [
    "# Evaluation function using torchmetrics\n",
    "def evaluate(model, test_loader, criterion):\n",
    "    model.eval()\n",
    "    accuracy_metric = torchmetrics.Accuracy(task=\"multiclass\", num_classes=10)  \n",
    "    test_loss = 0.0\n",
    "\n",
    "    with torch.no_grad():\n",
    "        for inputs, labels in test_loader:\n",
    "            outputs = model(inputs)\n",
    "            loss = criterion(outputs, labels)\n",
    "            test_loss += loss.item()\n",
    "            _, predicted = torch.max(outputs.data, 1)\n",
    "            accuracy_metric.update(predicted, labels)\n",
    "\n",
    "    accuracy = accuracy_metric.compute().item()\n",
    "    print(f'Accuracy: {accuracy * 100:.2f}%')\n",
    "    print(f'Test Loss: {test_loss / len(test_loader):.3f}')"
   ]
  },
  {
   "cell_type": "code",
   "execution_count": null,
   "id": "a5fb7434-56a3-4d02-b0be-4ef5a5e1027a",
   "metadata": {},
   "outputs": [],
   "source": [
    "# evaluate the model\n",
    "evaluate(model, test_loader, criterion)"
   ]
  },
  {
   "cell_type": "code",
   "execution_count": null,
   "id": "2fb493fb-0dfd-4fec-9052-43ddff3916a4",
   "metadata": {},
   "outputs": [],
   "source": []
  }
 ],
 "metadata": {
  "kernelspec": {
   "display_name": "Python 3 (ipykernel)",
   "language": "python",
   "name": "python3"
  },
  "language_info": {
   "codemirror_mode": {
    "name": "ipython",
    "version": 3
   },
   "file_extension": ".py",
   "mimetype": "text/x-python",
   "name": "python",
   "nbconvert_exporter": "python",
   "pygments_lexer": "ipython3",
   "version": "3.10.8"
  }
 },
 "nbformat": 4,
 "nbformat_minor": 5
}
