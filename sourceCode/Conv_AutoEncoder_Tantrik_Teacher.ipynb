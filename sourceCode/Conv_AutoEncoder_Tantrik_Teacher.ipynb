{
 "cells": [
  {
   "cell_type": "markdown",
   "id": "f34dbc45-1d85-480e-9be2-cf91ba11fb8d",
   "metadata": {},
   "source": [
    "## Image Reconstruction using Convolutional Autoencoder on CIFAR10 Subset Data\n",
    "### Problem Description\n",
    "#### The goal of this assignment is to build a Convolutional Autoencoder (CAE) for image reconstruction using a subset of the CIFAR dataset. The CIFAR dataset consists of 60,000 32x32 color images in 10 different classes. For this assignment, you will be provided with a subset of the CIFAR dataset consisting of 40 images for training and 8 images for testing, selected from one or more classes.\n",
    "\n",
    "### Objectives\n",
    "#### Understand the structure and components of Convolutional Autoencoders.\n",
    "#### Implement a Convolutional Autoencoder using PyTorch to reconstruct images from the CIFAR subset.\n",
    "#### Train the Autoencoder on the provided training data and evaluate its performance on the test data.\n",
    "\n",
    "### Input\n",
    "#### CIFAR-10 Subset: The dataset contains images categorized into the following 10 classes: airplane, automobile, bird, cat, deer, dog, frog, horse, ship, and truck. But for this assignment the subset contains only first four classes: airplane, automobile, bird and cat\n",
    "#### Training Data: 40 images\n",
    "#### Testing Data: 8 images\n",
    "#### Model Architecture: You will design and implement a Convolutional Autoencoder model, which may include convolutional layers, pooling layers, upsampling layers, and a latent space representation."
   ]
  },
  {
   "cell_type": "markdown",
   "id": "b1f8d988-7525-43d6-be6c-03aa5765f037",
   "metadata": {},
   "source": [
    "### Import Required Libraries"
   ]
  },
  {
   "cell_type": "code",
   "execution_count": 1,
   "id": "c9428ede-5c94-4fdc-86b1-84552b1139a3",
   "metadata": {},
   "outputs": [],
   "source": [
    "import numpy as np\n",
    "import torch\n",
    "import torch.nn as nn\n",
    "import torch.nn.functional as F\n",
    "import torch.optim as optim\n",
    "import matplotlib.pyplot as plt\n",
    "from PIL import Image\n",
    "from torch.utils.data.sampler import SubsetRandomSampler\n",
    "from torch.utils.data import DataLoader\n",
    "import torchvision\n",
    "from torchvision import datasets, transforms\n",
    "from torch.utils.data import DataLoader, Dataset\n",
    "import matplotlib.pyplot as plt\n",
    "%matplotlib inline\n",
    "import torch.nn as nn"
   ]
  },
  {
   "cell_type": "markdown",
   "id": "cab320a0-bd22-4bfc-b1b1-2d39bedd14a9",
   "metadata": {},
   "source": [
    "### Preprocessing and EDA"
   ]
  },
  {
   "cell_type": "code",
   "execution_count": 2,
   "id": "23e743f5-6e8b-4b75-8fc2-a9a0375e7e6b",
   "metadata": {
    "nbgrader": {
     "grade": false,
     "grade_id": "cell-d4ed98a3976a911a",
     "locked": false,
     "schema_version": 3,
     "solution": true,
     "task": false
    },
    "tags": []
   },
   "outputs": [],
   "source": [
    "# Define transformations\n",
    "transform = transforms.Compose([\n",
    "    transforms.Resize((28, 28)),\n",
    "    transforms.ToTensor(),\n",
    "    #transforms.Normalize((0.4914, 0.4822, 0.4465), (0.2023, 0.1994, 0.2010)),\n",
    "])"
   ]
  },
  {
   "cell_type": "markdown",
   "id": "ef08cbea-6c88-4c54-af20-934192762c0a",
   "metadata": {},
   "source": [
    "#### Load training and testing data"
   ]
  },
  {
   "cell_type": "code",
   "execution_count": 3,
   "id": "daa94c90-717c-4743-bc20-7942f71c8b6a",
   "metadata": {},
   "outputs": [],
   "source": [
    "# Define a custom dataset class\n",
    "class CustomCIFAR10Dataset(Dataset):\n",
    "    def __init__(self, data, labels, transform=None):\n",
    "        self.data = data\n",
    "        self.labels = labels\n",
    "        self.transform = transform\n",
    "\n",
    "    def __len__(self):\n",
    "        return len(self.data)\n",
    "\n",
    "    def __getitem__(self, idx):\n",
    "        \n",
    "        img, label = self.data[idx], self.labels[idx]\n",
    "        img = img.transpose((1, 2, 0))  # Convert to HWC format\n",
    "        img = Image.fromarray(img.astype('uint8'))  # Convert to PIL image\n",
    "        if self.transform:\n",
    "            img = self.transform(img)\n",
    "        return img, label"
   ]
  },
  {
   "cell_type": "code",
   "execution_count": 4,
   "id": "52549e27-edd6-4feb-8c04-31bce82d9ac1",
   "metadata": {},
   "outputs": [],
   "source": [
    "# Load the saved CIFAR10 data subsets using PyTorch\n",
    "train_subset_data = np.load('data/train_cifar.npy')\n",
    "train_subset_labels = np.load('data/train_cifar_target.npy')\n",
    "test_subset_data = np.load('data/test_cifar10.npy')\n",
    "test_subset_labels = np.load('data/test_cifar_target.npy')"
   ]
  },
  {
   "cell_type": "markdown",
   "id": "a243b802-f29c-4e71-8ea1-34c9c2d37ad3",
   "metadata": {},
   "source": [
    "#### Initialize train and test loaders"
   ]
  },
  {
   "cell_type": "code",
   "execution_count": 5,
   "id": "1b95fe8d-959f-4038-97df-97740676c383",
   "metadata": {},
   "outputs": [],
   "source": [
    "# Create an instance of the CustomCIFAR10Dataset for the training subset,\n",
    "# using the provided training data and labels, and apply the specified transformations.\n",
    "train_dataset = CustomCIFAR10Dataset(train_subset_data, train_subset_labels, transform=transform)"
   ]
  },
  {
   "cell_type": "code",
   "execution_count": 6,
   "id": "3b1a77e0-7f2a-431e-88a9-e76486acdd0b",
   "metadata": {
    "nbgrader": {
     "grade": false,
     "grade_id": "cell-508bb2967aae2992",
     "locked": false,
     "schema_version": 3,
     "solution": true,
     "task": false
    },
    "tags": []
   },
   "outputs": [],
   "source": [
    "# Create an instance of the CustomCIFAR10Dataset for the test subset,\n",
    "# using the provided test data and labels, and apply the specified transformations.\n",
    "# hint: test_dataset = <>\n",
    "### BEGIN SOLUTION\n",
    "test_dataset = CustomCIFAR10Dataset(test_subset_data, test_subset_labels, transform=transform)\n",
    "### END SOLUTION"
   ]
  },
  {
   "cell_type": "code",
   "execution_count": 7,
   "id": "67739091-2c26-4c03-bcfa-e2e10ab08886",
   "metadata": {},
   "outputs": [],
   "source": [
    "# Create a DataLoader for the training dataset with a batch size of 4 and shuffling enabled.\n",
    "train_loader = DataLoader(train_dataset, batch_size=4, shuffle=True)"
   ]
  },
  {
   "cell_type": "code",
   "execution_count": 8,
   "id": "a2310c50-a195-40ad-8c16-5f964c5587bb",
   "metadata": {
    "tags": []
   },
   "outputs": [
    {
     "name": "stdout",
     "output_type": "stream",
     "text": [
      "Train Size: 40\n",
      "Test Size: 8\n",
      "Batch of images shape: torch.Size([4, 3, 28, 28])\n",
      "Batch of labels shape: torch.Size([4])\n"
     ]
    }
   ],
   "source": [
    "# Print some information about the subsets\n",
    "print(f'Train Size: {len(train_dataset)}')\n",
    "print(f'Test Size: {len(test_dataset)}')\n",
    "# Example of iterating through the DataLoader\n",
    "for images, labels in train_loader:\n",
    "    print(f'Batch of images shape: {images.shape}')\n",
    "    print(f'Batch of labels shape: {labels.shape}')\n",
    "    break   "
   ]
  },
  {
   "cell_type": "code",
   "execution_count": 9,
   "id": "3bd8977b-59ee-4985-b54a-b72bed96638f",
   "metadata": {
    "nbgrader": {
     "grade": false,
     "grade_id": "cell-c284b647868720d7",
     "locked": false,
     "schema_version": 3,
     "solution": true,
     "task": false
    },
    "tags": []
   },
   "outputs": [],
   "source": [
    "# Create a DataLoader for the test dataset with a batch size of 4 and shuffling disabled.\n",
    "# hint: test_loader = <>\n",
    "### BEGIN SOLUTION\n",
    "test_loader = DataLoader(test_dataset, batch_size=4, shuffle=False)\n",
    "### END SOLUTION"
   ]
  },
  {
   "cell_type": "code",
   "execution_count": 10,
   "id": "78704f3f-5a5f-4d63-95ec-f905ddf2332f",
   "metadata": {
    "nbgrader": {
     "grade": true,
     "grade_id": "cell-ffa0790cd23d5871",
     "locked": true,
     "points": 10,
     "schema_version": 3,
     "solution": false,
     "task": false
    },
    "tags": []
   },
   "outputs": [],
   "source": [
    "### BEGIN HIDDEN TESTS\n",
    "\n",
    "# Check if test_dataset is an instance of CustomCIFAR10Dataset\n",
    "assert isinstance(test_dataset, CustomCIFAR10Dataset), \"test_dataset should be an instance of CustomCIFAR10Dataset\"\n",
    "\n",
    "# Check if the length of the dataset matches the number of labels\n",
    "assert len(test_dataset) == len(test_subset_labels), \"Length of test_dataset should match the length of test_subset_labels\"\n",
    "\n",
    "### END HIDDEN TESTS"
   ]
  },
  {
   "cell_type": "code",
   "execution_count": 11,
   "id": "9b4880d5-f639-44ac-b945-d19d54e64e66",
   "metadata": {
    "nbgrader": {
     "grade": true,
     "grade_id": "cell-58fa95d2b21f5dde",
     "locked": true,
     "points": 10,
     "schema_version": 3,
     "solution": false,
     "task": false
    },
    "tags": []
   },
   "outputs": [],
   "source": [
    "### BEGIN HIDDEN TESTS\n",
    "\n",
    "# Check if test_loader is an instance of DataLoader\n",
    "assert isinstance(test_loader, DataLoader), \"test_loader should be an instance of DataLoader\"\n",
    "\n",
    "# Check if the batch_size is correctly set\n",
    "assert test_loader.batch_size == 4, \"Batch size of test_loader should be 4\"\n",
    "\n",
    "### END HIDDEN TESTS"
   ]
  },
  {
   "cell_type": "code",
   "execution_count": 12,
   "id": "283c0b0d-aad6-42d0-8ca4-fc37a9c78648",
   "metadata": {
    "nbgrader": {
     "grade": false,
     "grade_id": "cell-03f1f07d7eaf6616",
     "locked": false,
     "schema_version": 3,
     "solution": true,
     "task": false
    },
    "tags": []
   },
   "outputs": [],
   "source": [
    "# Define the list of class names corresponding to the CIFAR-10 dataset labels.\n",
    "# hint1: Check the problem description and the input at the beginning of this Notebook\n",
    "# hint2: classes = ['airplane', 'automobile'....]\n",
    "\n",
    "### BEGIN SOLUTION\n",
    "classes = ['airplane', 'automobile', 'bird', 'cat']\n",
    "### END SOLUTION"
   ]
  },
  {
   "cell_type": "code",
   "execution_count": 13,
   "id": "1eab8a27-ce27-4078-98e7-19ea53a14683",
   "metadata": {
    "nbgrader": {
     "grade": true,
     "grade_id": "cell-e4a8c6505c7ecad7",
     "locked": true,
     "points": 10,
     "schema_version": 3,
     "solution": false,
     "task": false
    },
    "tags": []
   },
   "outputs": [],
   "source": [
    "### BEGIN HIDDEN TESTS\n",
    "\n",
    "# Check if classes is a list\n",
    "assert isinstance(classes, list), \"classes should be a list\"\n",
    "\n",
    "# Check if the length of classes is 4\n",
    "assert len(classes) == 4, \"classes should contain exactly 10 elements\"\n",
    "\n",
    "# Check if the content of classes matches the expected class names\n",
    "expected_classes = ['airplane', 'automobile', 'bird', 'cat']\n",
    "assert classes == expected_classes, \"classes does not match the expected class names\"\n",
    "\n",
    "### END HIDDEN TESTS"
   ]
  },
  {
   "cell_type": "markdown",
   "id": "02c2b8b2-be8f-49c4-a807-48e2f5d05971",
   "metadata": {
    "nbgrader": {
     "grade": false,
     "grade_id": "cell-92743a9474b201c2",
     "locked": false,
     "points": 10,
     "schema_version": 3,
     "solution": false,
     "task": false
    },
    "tags": []
   },
   "source": [
    "#### Display random images from training and testing dataset"
   ]
  },
  {
   "cell_type": "code",
   "execution_count": 14,
   "id": "247e7314-8cf2-4a7b-9579-d9761119500b",
   "metadata": {},
   "outputs": [],
   "source": [
    "# Utility functions to un-normalize and display an image\n",
    "def imshow(img):\n",
    "    img = img / 2 +0.5\n",
    "    plt.imshow(np.transpose(img, (1, 2, 0)))"
   ]
  },
  {
   "cell_type": "code",
   "execution_count": 15,
   "id": "c66ff771-b626-4538-af3d-c46d74efa851",
   "metadata": {
    "nbgrader": {
     "grade": false,
     "grade_id": "cell-a1893f49d98d93d2",
     "locked": false,
     "schema_version": 3,
     "solution": true,
     "task": false
    },
    "tags": []
   },
   "outputs": [
    {
     "name": "stdout",
     "output_type": "stream",
     "text": [
      "automobile bird  bird  bird \n"
     ]
    },
    {
     "data": {
      "image/png": "[encoded data removed]",
      "text/plain": [
       "<Figure size 640x480 with 1 Axes>"
      ]
     },
     "metadata": {},
     "output_type": "display_data"
    }
   ],
   "source": [
    "# Get some random training images for display\n",
    "\n",
    "# Create an iterator from the training data loader\n",
    "train_dataiter = iter(train_loader)\n",
    "# Get the next batch of images and labels from the iterator\n",
    "images, labels = next(train_dataiter)  \n",
    "\n",
    "# Show images\n",
    "# Display the images in a grid using the imshow function\n",
    "imshow(torchvision.utils.make_grid(images))  \n",
    "\n",
    "# Print labels\n",
    "# Print the labels of the images in the batch\n",
    "print(' '.join(f'{classes[labels[j]]:5s}' for j in range(4)))\n",
    "plt.show()"
   ]
  },
  {
   "cell_type": "code",
   "execution_count": 16,
   "id": "c602f18a-bcf6-4462-a827-a85c056d93d9",
   "metadata": {
    "nbgrader": {
     "grade": true,
     "grade_id": "cell-4eea6062117d424e",
     "locked": true,
     "points": 0,
     "schema_version": 3,
     "solution": false,
     "task": false
    },
    "tags": []
   },
   "outputs": [],
   "source": [
    "### BEGIN HIDDEN TESTS\n",
    "# DEFINE HERE AND USE MULTIPLE PLACES IN FUTURE HIDDEN TESTS\n",
    "import re\n",
    "def check_method_order(method_names):\n",
    "    # Retrieve the previous cell's content\n",
    "    code_string = In[-2]\n",
    "    # print(code_string)\n",
    "    method_call_patterns = [\n",
    "        fr'{method_name.split(\"(\")[0]}\\s*\\(\\s*.*?\\s*\\)'\n",
    "        for method_name in method_names\n",
    "    ]\n",
    "\n",
    "    # Find all occurrences of the patterns\n",
    "    occurrences = []\n",
    "    for pattern in method_call_patterns:\n",
    "        match = re.search(pattern, code_string)\n",
    "        if match:\n",
    "            occurrences.append((match.start(), pattern))\n",
    "   \n",
    "    # Check if occurrences are in the correct order\n",
    "    occurrences.sort()  # Sort by the starting position of the matches\n",
    "    sorted_patterns = [pattern for _, pattern in occurrences]\n",
    "   \n",
    "    return sorted_patterns == method_call_patterns\n",
    "### END HIDDEN TESTS"
   ]
  },
  {
   "cell_type": "code",
   "execution_count": 17,
   "id": "77e00529-7115-49b0-a6b8-f227c1e341a8",
   "metadata": {
    "nbgrader": {
     "grade": false,
     "grade_id": "cell-ce2563a4e8f5dc71",
     "locked": false,
     "schema_version": 3,
     "solution": true,
     "task": false
    },
    "tags": []
   },
   "outputs": [
    {
     "name": "stdout",
     "output_type": "stream",
     "text": [
      "airplane airplane automobile automobile\n"
     ]
    },
    {
     "data": {
      "image/png": "[encoded data removed]",
      "text/plain": [
       "<Figure size 640x480 with 1 Axes>"
      ]
     },
     "metadata": {},
     "output_type": "display_data"
    }
   ],
   "source": [
    "# Get some random test images for display\n",
    "# Step1: Create an iterator from the test data loader\n",
    "# Step2: Get the next batch of images and labels from the iterator\n",
    "# Step3: Display the images in a grid using the imshow function\n",
    "# Step4: Print the labels of the images in the batch\n",
    "# hint: Refer the code in the above cell that displays training images\n",
    "\n",
    "### BEGIN SOLUTION\n",
    "test_dataiter = iter(test_loader)\n",
    "images, labels = next(test_dataiter)  \n",
    "imshow(torchvision.utils.make_grid(images))\n",
    "print(' '.join(f'{classes[labels[j]]:5s}' for j in range(4)))\n",
    "plt.show()\n",
    "### END SOLUTION"
   ]
  },
  {
   "cell_type": "code",
   "execution_count": 18,
   "id": "6f26dbe3-6f76-4095-9776-aa37202985b6",
   "metadata": {
    "nbgrader": {
     "grade": true,
     "grade_id": "cell-c964414b42f5af85",
     "locked": true,
     "points": 10,
     "schema_version": 3,
     "solution": false,
     "task": false
    },
    "tags": []
   },
   "outputs": [
    {
     "name": "stdout",
     "output_type": "stream",
     "text": [
      "True\n"
     ]
    }
   ],
   "source": [
    "### BEGIN HIDDEN TESTS\n",
    "import collections.abc\n",
    "# Check if test_dataiter is an iterator\n",
    "assert isinstance(test_dataiter, collections.abc.Iterator), \"test_dataiter should be an iterator\"\n",
    "\n",
    "methods = [\n",
    "    \"iter\",\n",
    "    \"next\",\n",
    "    \"make_grid\" \n",
    "]\n",
    "result = check_method_order(methods)\n",
    "print(result)\n",
    "assert result == True\n",
    "### END HIDDEN TESTS"
   ]
  },
  {
   "cell_type": "markdown",
   "id": "97475f39-309d-4c5a-a4ec-666b74be2285",
   "metadata": {},
   "source": [
    "### Design simple Convolutional AutoEncoder architecture"
   ]
  },
  {
   "cell_type": "markdown",
   "id": "7828f90f-b15a-465c-8a2f-fd4a07e5cede",
   "metadata": {},
   "source": [
    "#### Design the following Convolutional AutoEncoder Neural Network architecture for Image Processing\n",
    "#### and reconstruction, apply the Pooling, Activation functions as per the below design"
   ]
  },
  {
   "attachments": {
    "84716f10-63c4-4d70-b5c8-5ff8ecb6f55f.png": {
     "image/png": "[encoded data removed]"
    }
   },
   "cell_type": "markdown",
   "id": "66e08356-139f-4a86-951b-4574ce58cb72",
   "metadata": {},
   "source": [
    "![image.png](attachment:84716f10-63c4-4d70-b5c8-5ff8ecb6f55f.png)"
   ]
  },
  {
   "cell_type": "code",
   "execution_count": 19,
   "id": "6db37275-0db3-4f33-9ca0-8bc13c8be431",
   "metadata": {
    "nbgrader": {
     "grade": false,
     "grade_id": "cell-2361d0f3c077d0e4",
     "locked": false,
     "schema_version": 3,
     "solution": true,
     "task": false
    },
    "tags": []
   },
   "outputs": [],
   "source": [
    "# Define the Convolutional Autoencoder\n",
    "class ConvAutoEncoder(nn.Module):\n",
    "    def __init__(self):\n",
    "        super(ConvAutoEncoder, self).__init__()\n",
    "        \n",
    "        # Encoder Layers\n",
    "        # First convolutional layer: input channels = 3 (RGB image), output channels = 16, \n",
    "        #                            3x3 kernel size, padding = 1\n",
    "        # Second convolutional layer: input channels = 16, output channels = 4, \n",
    "        #                            3x3 kernel size, padding = 1\n",
    "        # Max pooling layer with 2x2 kernel, and stride = 2 to downsample feature maps\n",
    "        #\n",
    "        # Decoder Layers\n",
    "        # First transposed convolution (deconvolution) layer: \n",
    "        #                            input channels = 4, output channels = 16, \n",
    "        #                            2x2 kernel, stride = 2\n",
    "        # Second transposed convolution (deconvolution) layer: \n",
    "        #                           input channels = 16, output channels = 3, \n",
    "        #                           2x2 kernel, stride = 2\n",
    "        ## hint: Use Class variables, e.g self.conv1, self.pool, self.t_conv1\n",
    "        #\n",
    "        ### BEGIN SOLUTION\n",
    "        self.conv1 = nn.Conv2d(3, 16, 3, padding=1)\n",
    "        self.conv2 = nn.Conv2d(16, 4, 3, padding=1)\n",
    "        self.pool = nn.MaxPool2d(2, 2)\n",
    "        self.t_conv1 = nn.ConvTranspose2d(4, 16, 2, stride=2)\n",
    "        self.t_conv2 = nn.ConvTranspose2d(16, 3, 2, stride=2)\n",
    "        ### END SOLUTION\n",
    "        \n",
    "    def forward(self, x):\n",
    "        # Apply the first convolutional layer followed by ReLU activation\n",
    "        # Apply max pooling to reduce spatial dimensions\n",
    "        # Apply the second convolutional layer followed by ReLU activation\n",
    "        # Apply max pooling again to further reduce spatial dimensions\n",
    "        # Apply the first transposed convolution layer followed by ReLU activation to begin reconstruction\n",
    "        # Apply the second transposed convolution layer followed by Sigmoid activation to reconstruct the image\n",
    "        #\n",
    "        ### BEGIN SOLUTION\n",
    "        x = F.relu(self.conv1(x))\n",
    "        x = self.pool(x)\n",
    "        x = F.relu(self.conv2(x))\n",
    "        x = self.pool(x)\n",
    "        x = F.relu(self.t_conv1(x))\n",
    "        x = F.sigmoid(self.t_conv2(x))\n",
    "        ### END SOLUTION\n",
    "        return x"
   ]
  },
  {
   "cell_type": "code",
   "execution_count": 20,
   "id": "ff666512-6b1a-4c9d-8a4f-f2e236ff179a",
   "metadata": {},
   "outputs": [
    {
     "name": "stdout",
     "output_type": "stream",
     "text": [
      "ConvAutoEncoder(\n",
      "  (conv1): Conv2d(3, 16, kernel_size=(3, 3), stride=(1, 1), padding=(1, 1))\n",
      "  (conv2): Conv2d(16, 4, kernel_size=(3, 3), stride=(1, 1), padding=(1, 1))\n",
      "  (pool): MaxPool2d(kernel_size=2, stride=2, padding=0, dilation=1, ceil_mode=False)\n",
      "  (t_conv1): ConvTranspose2d(4, 16, kernel_size=(2, 2), stride=(2, 2))\n",
      "  (t_conv2): ConvTranspose2d(16, 3, kernel_size=(2, 2), stride=(2, 2))\n",
      ")\n"
     ]
    }
   ],
   "source": [
    "# Instantiate the model\n",
    "model = ConvAutoEncoder()\n",
    "print(model)"
   ]
  },
  {
   "cell_type": "code",
   "execution_count": 32,
   "id": "1fe6f48c-1eae-4770-9859-516954e322d7",
   "metadata": {
    "nbgrader": {
     "grade": true,
     "grade_id": "cell-7e4aa339fa27dada",
     "locked": true,
     "points": 10,
     "schema_version": 3,
     "solution": false,
     "task": false
    },
    "tags": []
   },
   "outputs": [],
   "source": [
    "### BEGIN HIDDEN TESTS\n",
    "\n",
    "# List to store the layers\n",
    "layers = list(model.modules())\n",
    "\n",
    "# Assertions to check the network architecture\n",
    "# Conv1\n",
    "assert isinstance(layers[1], nn.Conv2d), \"First layer is not Conv2d\"\n",
    "assert layers[1].in_channels == 3, \"Conv1 in_channels should be 3\"\n",
    "\n",
    "# Conv2\n",
    "assert isinstance(layers[2], nn.Conv2d), \"Second layer is not Conv2d\"\n",
    "assert layers[2].out_channels == 4, \"Conv2 out_channels should be 4\"\n",
    "\n",
    "# Pool\n",
    "assert isinstance(layers[3], nn.MaxPool2d), \"Fourth layer is not MaxPool2d\"\n",
    "assert layers[3].kernel_size == 2, \"Pool kernel_size should be (2, 2)\"\n",
    "\n",
    "# T_Conv1\n",
    "assert isinstance(layers[4], nn.ConvTranspose2d), \"Fifth layer is not ConvTranspose2d\"\n",
    "assert layers[4].kernel_size == 2 or layers[4].kernel_size == (2,2), \"T_Conv1 kernel_size should be (2, 2)\"\n",
    "assert layers[4].stride == (2, 2), \"T_Conv1 stride should be (2, 2)\"\n",
    "\n",
    "# T_Conv2\n",
    "assert isinstance(layers[5], nn.ConvTranspose2d), \"Sixth layer is not ConvTranspose2d\"\n",
    "assert layers[5].in_channels == 16, \"T_Conv2 in_channels should be 16\"\n",
    "assert layers[5].out_channels == 3, \"T_Conv2 out_channels should be 3\"\n",
    "\n",
    "### END HIDDEN TESTS\n"
   ]
  },
  {
   "cell_type": "markdown",
   "id": "73e286f1-8927-406b-9f7a-fe4ed06da86e",
   "metadata": {},
   "source": [
    "#### Select loss and optimizer functions"
   ]
  },
  {
   "cell_type": "code",
   "execution_count": 22,
   "id": "87bad82b-0537-428f-adc8-8fa4bcdac3a4",
   "metadata": {
    "nbgrader": {
     "grade": false,
     "grade_id": "cell-1573835b89e440ff",
     "locked": false,
     "schema_version": 3,
     "solution": true,
     "task": false
    },
    "tags": []
   },
   "outputs": [],
   "source": [
    "# Set loss function and optimizer\n",
    "# Use Binary Cross Entropy loss and assign it to criterion object\n",
    "# Create and initialize the loss function to Binary Cross Entropy Loss\n",
    "\n",
    "### BEGIN SOLUTION\n",
    "criterion = nn.BCELoss()\n",
    "### END SOLUTION\n",
    "\n",
    "# Create and initialize the optimizer to Adam optimizer\n",
    "# The learning rate (lr) is set to 0.001, which controls the step size for updating the model parameters\n",
    "### BEGIN SOLUTION\n",
    "optimizer = optim.Adam(model.parameters(), lr=0.001)\n",
    "### END SOLUTION"
   ]
  },
  {
   "cell_type": "code",
   "execution_count": 23,
   "id": "78378042-85ac-4cec-8660-f8bc45b88ac9",
   "metadata": {
    "nbgrader": {
     "grade": true,
     "grade_id": "cell-d803af7209066665",
     "locked": true,
     "points": 10,
     "schema_version": 3,
     "solution": false,
     "task": false
    },
    "tags": []
   },
   "outputs": [],
   "source": [
    "### BEGIN HIDDEN TESTS\n",
    "\n",
    "# Function to check if an instance of a specific class exists in the local scope and \n",
    "# if its attributes are set correctly\n",
    "def assert_instance_in_scope(class_type, attribute_checks, scope, error_message):\n",
    "    instance_found = False\n",
    "    for var_value in scope.values():\n",
    "        if isinstance(var_value, class_type):\n",
    "            instance_found = True\n",
    "            for attr, expected_value in attribute_checks.items():\n",
    "                actual_value = eval(f\"var_value.{attr}\")\n",
    "                assert actual_value == expected_value, f\"{class_type.__name__} {attr} is {actual_value}, expected {expected_value}\"\n",
    "            break\n",
    "    assert instance_found, error_message\n",
    "\n",
    "# Get all variables in the current local scope\n",
    "local_vars = locals()\n",
    "\n",
    "# Assert that there is an instance of nn.CrossEntropyLoss in the local scope\n",
    "assert_instance_in_scope(nn.BCELoss, {}, local_vars, \"No instance of nn.BCELoss found\")\n",
    "\n",
    "# Assert that there is an instance of optim.Adam in the local scope and the learning rate is set correctly\n",
    "assert_instance_in_scope(optim.Adam, {'param_groups[0][\"lr\"]': 0.001}, local_vars, \"No instance of optim.Adam with correct learning rate found\")\n",
    "\n",
    "### END HIDDEN TESTS"
   ]
  },
  {
   "cell_type": "code",
   "execution_count": 24,
   "id": "aa58d492-8e8e-4743-a876-cdce0ee28d7a",
   "metadata": {
    "nbgrader": {
     "grade": false,
     "grade_id": "cell-75b61cd657c1d5b4",
     "locked": false,
     "schema_version": 3,
     "solution": true,
     "task": false
    },
    "tags": []
   },
   "outputs": [],
   "source": [
    "# Training function\n",
    "# hint1: train(model, train_loader, <loss_function_obj>, <optimizer_obj>, num_epochs=2)\n",
    "# hint2: replace criterion and optimizer with your <loss_function_obj> and <optimizer_obj> respectively\n",
    "def train(model, train_loader, criterion, optimizer, num_epochs=2):    \n",
    "    # Set the model to training mode\n",
    "    # This is important for certain layers like dropout and batch normalization, \n",
    "    #                     which behave differently during training and evaluation\n",
    "    model.train()\n",
    "    for epoch in range(num_epochs):\n",
    "        # Initialize the running loss to zero before starting the training loop\n",
    "        # Loop over the training data in batches\n",
    "        #    Zero the gradients for the optimizer\n",
    "        #    Forward pass: compute the model output for the given inputs\n",
    "        #    Compute the loss between the predicted outputs and the actual labels\n",
    "        #    Backward pass: compute the gradient of the loss with respect to model parameters\n",
    "        #    Perform a single optimization step to update the model parameters\n",
    "        #    Accumulate the loss for reporting\n",
    "        #    Print the average loss for every <n> mini-batches\n",
    "        ### BEGIN SOLUTION\n",
    "        \n",
    "        running_loss = 0.0\n",
    "        for data in train_loader:\n",
    "            images, _ = data\n",
    "            optimizer.zero_grad()\n",
    "            outputs = model(images)\n",
    "            loss = criterion(outputs, images)\n",
    "            loss.backward()\n",
    "            optimizer.step()\n",
    "            running_loss += loss.item()*images.size(0)\n",
    "        \n",
    "        train_loss = running_loss/len(train_loader)\n",
    "        print('Epoch: {} \\tTraining Loss: {:.6f}'.format(epoch, train_loss))\n",
    "    print('Finished Training')\n",
    "        \n",
    "        ### END SOLUTION        \n",
    "    "
   ]
  },
  {
   "cell_type": "code",
   "execution_count": 25,
   "id": "7e12b377-c87b-421c-bc2c-61837a2d5436",
   "metadata": {
    "nbgrader": {
     "grade": true,
     "grade_id": "cell-df88b911f8e1f300",
     "locked": true,
     "points": 10,
     "schema_version": 3,
     "solution": false,
     "task": false
    },
    "tags": []
   },
   "outputs": [
    {
     "name": "stdout",
     "output_type": "stream",
     "text": [
      "True\n"
     ]
    }
   ],
   "source": [
    "### BEGIN HIDDEN TESTS\n",
    "\n",
    "methods = [\n",
    "    \"zero_grad\",\n",
    "    \"model\",\n",
    "    \"backward\",\n",
    "    \"step\"\n",
    "   \n",
    "]\n",
    "result = check_method_order(methods)\n",
    "print(result)\n",
    "assert result == True\n",
    "### END HIDDEN TESTS"
   ]
  },
  {
   "cell_type": "code",
   "execution_count": 34,
   "id": "7fc13b55-c19e-407f-8a8d-25f69797164b",
   "metadata": {
    "nbgrader": {
     "grade": false,
     "grade_id": "cell-dd7671e1d1eef37a",
     "locked": false,
     "schema_version": 3,
     "solution": true,
     "task": false
    },
    "tags": []
   },
   "outputs": [
    {
     "name": "stdout",
     "output_type": "stream",
     "text": [
      "Epoch: 0 \tTraining Loss: 2.733007\n",
      "Epoch: 1 \tTraining Loss: 2.709761\n",
      "Epoch: 2 \tTraining Loss: 2.689414\n",
      "Epoch: 3 \tTraining Loss: 2.669638\n",
      "Epoch: 4 \tTraining Loss: 2.647954\n",
      "Finished Training\n"
     ]
    }
   ],
   "source": [
    "# Train the model\n",
    "num_epochs = 5\n",
    "# Invoke the train function to kick off the learning\n",
    "# Pass arguments: model, loader, loss, optimizer, num of epochs\n",
    "# hint: train(model, train_loader, <loss_function_obj>, <optimizer_obj>, num_epochs)\n",
    "### BEGIN SOLUTION\n",
    "train(model, train_loader, criterion, optimizer, num_epochs)\n",
    "### END SOLUTION"
   ]
  },
  {
   "cell_type": "code",
   "execution_count": 35,
   "id": "e98f7b56-1d58-4da2-90ad-bdee6713707c",
   "metadata": {
    "nbgrader": {
     "grade": true,
     "grade_id": "cell-99cb53669a060b6c",
     "locked": true,
     "points": 10,
     "schema_version": 3,
     "solution": false,
     "task": false
    },
    "tags": []
   },
   "outputs": [
    {
     "name": "stdout",
     "output_type": "stream",
     "text": [
      "True\n"
     ]
    }
   ],
   "source": [
    "### BEGIN HIDDEN TESTS\n",
    "\n",
    "methods = [\n",
    "    \"train\"\n",
    "   \n",
    "]\n",
    "result = check_method_order(methods)\n",
    "print(result)\n",
    "assert result == True\n",
    "\n",
    "### END HIDDEN TESTS"
   ]
  },
  {
   "cell_type": "code",
   "execution_count": 27,
   "id": "45b8d362-d2a4-4bc8-9685-a9f2c78cfe17",
   "metadata": {},
   "outputs": [],
   "source": [
    "# Batch of test images\n",
    "dataiter = iter(test_loader)\n",
    "images, labels = next(dataiter)"
   ]
  },
  {
   "cell_type": "code",
   "execution_count": 28,
   "id": "2cf63c86-2696-47a7-9e4a-afc8e0b25634",
   "metadata": {},
   "outputs": [],
   "source": [
    "# Sample outputs\n",
    "output = model(images)\n",
    "images = images.numpy()"
   ]
  },
  {
   "cell_type": "code",
   "execution_count": 29,
   "id": "b42b6d9d-e5ed-48fb-b4cd-aca80a61f900",
   "metadata": {},
   "outputs": [
    {
     "name": "stdout",
     "output_type": "stream",
     "text": [
      "Output shape: torch.Size([4, 3, 28, 28])\n"
     ]
    }
   ],
   "source": [
    "# Ensure the output shape is correct\n",
    "print(f'Output shape: {output.shape}')  # Should be [4, 3, 32, 32]"
   ]
  },
  {
   "cell_type": "code",
   "execution_count": 30,
   "id": "cd67c8f0-f48e-49c3-8e4f-90c04da5cbe2",
   "metadata": {},
   "outputs": [],
   "source": [
    "batch_size = 4\n",
    "output = output.view(batch_size, 3, 28, 28)\n",
    "output = output.detach().numpy()"
   ]
  },
  {
   "cell_type": "code",
   "execution_count": 31,
   "id": "38c284ee-fbfd-44a7-bcfa-fabf5dfbce04",
   "metadata": {},
   "outputs": [
    {
     "name": "stdout",
     "output_type": "stream",
     "text": [
      "Original Images\n"
     ]
    },
    {
     "data": {
      "image/png": "[encoded data removed]",
      "text/plain": [
       "<Figure size 400x200 with 4 Axes>"
      ]
     },
     "metadata": {},
     "output_type": "display_data"
    },
    {
     "name": "stdout",
     "output_type": "stream",
     "text": [
      "Reconstructed Images\n"
     ]
    },
    {
     "data": {
      "image/png": "[encoded data removed]",
      "text/plain": [
       "<Figure size 400x200 with 4 Axes>"
      ]
     },
     "metadata": {},
     "output_type": "display_data"
    }
   ],
   "source": [
    "# Original images\n",
    "print(\"Original Images\")\n",
    "fig, axes = plt.subplots(nrows=1, ncols=2, sharex=True, sharey=True, figsize=(4,2))\n",
    "for idx in np.arange(2):\n",
    "    ax = fig.add_subplot(1, 2, idx+1, xticks=[], yticks=[])\n",
    "    imshow(images[idx])\n",
    "    ax.set_title(classes[labels[idx]])\n",
    "plt.show()\n",
    "\n",
    "# Reconstructed images\n",
    "print(\"Reconstructed Images\")\n",
    "fig, axes = plt.subplots(nrows=1, ncols=2, sharex=True, sharey=True, figsize=(4, 2))\n",
    "for idx in np.arange(2):\n",
    "    ax = fig.add_subplot(1, 2, idx+1, xticks=[], yticks=[])\n",
    "    imshow(output[idx])\n",
    "    ax.set_title(classes[labels[idx]])\n",
    "    \n",
    "plt.show()"
   ]
  },
  {
   "cell_type": "code",
   "execution_count": null,
   "id": "a7b0054f-e054-4451-9e5a-6c80952c02a3",
   "metadata": {},
   "outputs": [],
   "source": []
  }
 ],
 "metadata": {
  "kernelspec": {
   "display_name": "Python 3 (ipykernel)",
   "language": "python",
   "name": "python3"
  },
  "language_info": {
   "codemirror_mode": {
    "name": "ipython",
    "version": 3
   },
   "file_extension": ".py",
   "mimetype": "text/x-python",
   "name": "python",
   "nbconvert_exporter": "python",
   "pygments_lexer": "ipython3",
   "version": "3.10.8"
  }
 },
 "nbformat": 4,
 "nbformat_minor": 5
}
